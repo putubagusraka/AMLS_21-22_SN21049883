{
 "cells": [
  {
   "cell_type": "code",
   "execution_count": 71,
   "id": "2016df5a-6687-40a1-8991-b6aaa0966509",
   "metadata": {},
   "outputs": [],
   "source": [
    "import os\n",
    "import pandas as pd\n",
    "import numpy as np\n",
    "import time\n",
    "import cv2\n",
    "import tensorflow as tf\n",
    "import keras.backend as K\n",
    "import keras\n",
    "\n",
    "from sklearn.preprocessing import OneHotEncoder\n",
    "from sklearn.model_selection import train_test_split\n",
    "from sklearn.linear_model import LogisticRegression\n",
    "from sklearn.metrics import confusion_matrix, classification_report,accuracy_score,precision_score,f1_score,recall_score\n",
    "from sklearn import preprocessing\n",
    "from sklearn import svm\n",
    "from sklearn.metrics import ConfusionMatrixDisplay\n",
    "from sklearn.model_selection import KFold\n",
    "from sklearn.decomposition import PCA, KernelPCA\n",
    "\n",
    "import matplotlib.pyplot as plt\n",
    "from sklearn.metrics import plot_confusion_matrix\n",
    "import seaborn as sn\n",
    "\n",
    "import pickle\n",
    "import joblib\n",
    "from joblib import dump, load\n",
    "\n",
    "from collections import Counter\n",
    "from imblearn.over_sampling import SMOTE \n",
    "\n",
    "from sklearn.preprocessing import StandardScaler\n",
    "from sklearn.model_selection import GridSearchCV"
   ]
  },
  {
   "cell_type": "markdown",
   "id": "82192ba2-ea53-4fa2-8206-564b2fa529e3",
   "metadata": {},
   "source": [
    "# Data Preprocessing"
   ]
  },
  {
   "cell_type": "code",
   "execution_count": 263,
   "id": "25150276-036d-4e43-b5cf-6491b580ed07",
   "metadata": {},
   "outputs": [],
   "source": [
    "def file_name_encoding_init(file_names):\n",
    "    le_filename = preprocessing.LabelEncoder()\n",
    "    le_filename.fit(file_names)\n",
    "    dump(le_filename, 'Task A Assets/Task_A_file_name_encoder.joblib') \n",
    "\n",
    "def label_encoding_init(labels):\n",
    "    le_label = preprocessing.LabelEncoder()\n",
    "    le_label.fit(labels)\n",
    "    dump(le_label, 'Task A Assets/Task_A_label_encoder.joblib') \n",
    "\n",
    "def SMOTE_preprocessing(file_names, labels):\n",
    "    le_filename = joblib.load('Task A Assets/Task_A_file_name_encoder.joblib')\n",
    "    le_filename.fit(file_names)\n",
    "    le_file_names = le_filename.transform(file_names).reshape(-1,1)\n",
    "    \n",
    "    sm = SMOTE()\n",
    "    SMOTE_file_names, SMOTE_labels = sm.fit_resample(le_file_names, labels)\n",
    "    print(\"Distribution of image categories post-SMOTE:\")\n",
    "    print(Counter(list(SMOTE_labels)))\n",
    "    \n",
    "    SMOTE_file_names = le_filename.inverse_transform(SMOTE_file_names)\n",
    "\n",
    "    return SMOTE_file_names, SMOTE_labels\n",
    "\n",
    "def PCA_process(x):\n",
    "    pca = KernelPCA(kernel='rbf', n_components=800)\n",
    "    x_flat = np.array([features_2d.flatten() for features_2d in x])\n",
    "    x_pca = pca.fit_transform(x_flat)\n",
    "    dump(pca, 'Task A Assets/Task_A_PCA.joblib') \n",
    "    return x_pca\n",
    "\n",
    "\n",
    "def image_processing(data_path,file_names):\n",
    "    dataset_tumor=[]\n",
    "    for file_name in file_names:\n",
    "        file=cv2.imread(data_path+\"/image/\"+file_name)\n",
    "        #file_resize=cv2.resize(file,(200,200))/255.\n",
    "        file_resize=cv2.resize(file,(256,256))\n",
    "        dataset_tumor.append(file_resize)\n",
    "    tumor_data = np.array(dataset_tumor)\n",
    "    return tumor_data\n",
    "\n",
    "def preprocessing_data(data_path, file, status):\n",
    "\n",
    "    data=pd.read_csv(data_path+file)\n",
    "    file_names=list(data['file_name'])\n",
    "    data['label'] = data['label'].apply(lambda x: \"no_tumor\" if x == \"no_tumor\" else \"tumor\")\n",
    "    labels=data['label'].values.reshape(-1,1)\n",
    "    \n",
    "    if status == 'training':\n",
    "        \n",
    "        print(\"Distribution of image categories:\")\n",
    "        print(Counter(list(data['label'])))\n",
    "    \n",
    "        file_name_encoding_init(file_names)\n",
    "        label_encoding_init(labels)\n",
    "        \n",
    "        \n",
    "        file_names, labels = SMOTE_preprocessing(file_names, labels)\n",
    "        \n",
    "        x = image_processing(data_path, file_names)\n",
    "        x_pca = PCA_process(x)\n",
    "        x_train,x_test,y_train,y_test = train_test_split(x_pca,labels,test_size=0.2)\n",
    "        \n",
    "        \n",
    "        std = StandardScaler()\n",
    "        x_train = std.fit_transform(x_train)\n",
    "        x_test = std.transform(x_test)\n",
    "        le_label = joblib.load('Task A Assets/Task_A_label_encoder.joblib')\n",
    "        \n",
    "        y_train = le_label.transform(y_train)\n",
    "        y_test = le_label.transform(y_test)\n",
    "\n",
    "        y_train = y_train.ravel()\n",
    "        y_test = y_test.ravel()\n",
    "        \n",
    "        return x_train, x_test, y_train, y_test\n",
    "\n",
    "    \n",
    "    elif status == 'testing':\n",
    "        le_label = joblib.load('Task A Assets/Task_A_label_encoder.joblib')\n",
    "        y_test = le_label.transform(labels)\n",
    "        x_test = image_processing(data_path,file_names) \n",
    "                              \n",
    "        return x_test, y_test\n",
    "    \n",
    "def find_model(x_train, y_train):\n",
    "    classifiers=[KNeighborsClassifier(),svm.SVC()]\n",
    "    classifierNames=['KNN','SVM']\n",
    "    parameters=[{'n_neighbors':[1,3,5,7]}, {'kernel':['rbf'],'C':[0.7,2,10]}]\n",
    "\n",
    "    for i in range(len(classifiers)):\n",
    "        clf=classifiers[i]\n",
    "        print('\\nSearching best '+classifierNames[i]+' parameters.')\n",
    "        clf_search= GridSearchCV(clf, parameters[i], scoring = 'accuracy',cv = 5)\n",
    "        result = clf_search.fit(x_train,y_train)\n",
    "        best_clf=clf_search.best_estimator_\n",
    "        \n",
    "        print(\"Classifier:\",classifierNames[i])\n",
    "        print(\"Best Parameters: {}\".format(clf_search.best_params_))\n",
    "        print(\"Best Validation Accuracy: %f\" % (result.best_score_))\n",
    "\n",
    "        pred=best_clf.predict(x_test)\n",
    "\n",
    "        accuracy = accuracy_score(y_test, pred)\n",
    "        precision = precision_score(y_test,pred)\n",
    "        recall = recall_score(y_test,pred)\n",
    "        f1score = f1_score(y_test,pred)\n",
    "        \n",
    "        print(\"Classifier Performance:\",classifierNames[i])\n",
    "        print(\"Test Accuracy: %.4f\" %(accuracy))\n",
    "        print(\"Test Precision: %.4f\" %(precision))\n",
    "        print(\"Test Recall: %.4f\" %(recall))\n",
    "        print(\"Test F1-score: %.4f\" %(f1score))\n",
    "    \n",
    "def train_SVC(x_train_val,y_train_val):\n",
    "    \n",
    "    kf = KFold(n_splits=5,shuffle=True)\n",
    "    \n",
    "    val_accuracy = []\n",
    "    val_precision = []\n",
    "    val_recall = []\n",
    "    val_f1score = []\n",
    "    \n",
    "    \n",
    "    print(\"SVC GridSearch with 5-Fold Cross Validation.\")\n",
    "    for train_index, test_index in kf.split(x_train_val):\n",
    "        x_train, x_val = x_train_val[train_index], x_train_val[test_index]\n",
    "        y_train, y_val = y_train_val[train_index], y_train_val[test_index]\n",
    "\n",
    "        # Pipeline\n",
    "           \n",
    "        model=svm.SVC(C=0.7,kernel='rbf')\n",
    "        model.fit(x_train,y_train)\n",
    "\n",
    "        pred_val=model.predict(x_val)\n",
    "\n",
    "        val_accuracy.append(accuracy_score(y_val, pred_val))\n",
    "        val_precision.append(precision_score(y_val, pred_val))\n",
    "        val_recall.append(f1_score(y_val, pred_val))\n",
    "        val_f1score.append(recall_score(y_val, pred_val))\n",
    "        \n",
    "\n",
    "    average_val_accuracy=sum(val_accuracy)/len(val_accuracy)\n",
    "    average_val_precision=sum(val_precision)/len(val_precision)\n",
    "    average_val_recall=sum(val_recall)/len(val_recall)\n",
    "    average_val_f1score=sum(val_f1score)/len(val_f1score)\n",
    "    \n",
    "\n",
    "    print(\"SVM Classifier 5-Fold CV:\")\n",
    "    print(\"Average Acc: %.4f\" %(average_val_accuracy))\n",
    "    print(\"Average Precision: %.4f\" %(average_val_precision))\n",
    "    print(\"Average recall: %.4f\" %(average_val_recall))\n",
    "    print(\"Average F1 Score: %.4f \\n\" %(average_val_f1score))\n",
    "    \n",
    "\n",
    "    pickle.dump(model, open(\"Task A Assets/Task_A_SVM_Model\", 'wb'))\n",
    "\n",
    "\n",
    "def test_model(x_test, y_test):\n",
    "\n",
    "    loaded_model = pickle.load(open(\"Task A Assets/Task_A_SVM_Model\", 'rb'))\n",
    "    y_pred_svm = loaded_model.predict(x_test)\n",
    "    print('Accuracy on test set: '+str(accuracy_score(y_test,y_pred_svm)))\n",
    "    \n",
    "    #text report showing the main classification metrics\n",
    "    print(classification_report(y_test,y_pred_svm))\n",
    "    plt.figure(figsize = (5,5))\n",
    "    ConfusionMatrixDisplay.from_predictions(y_test, y_pred_svm, cmap = 'Blues')\n",
    "    plt.show()"
   ]
  },
  {
   "cell_type": "markdown",
   "id": "50ebba55-b977-438a-beed-0c46d827060e",
   "metadata": {},
   "source": [
    "## Data Preprocessing (Training)"
   ]
  },
  {
   "cell_type": "code",
   "execution_count": 258,
   "id": "08e983bd-03cb-4c01-b911-eca49a9da7e1",
   "metadata": {},
   "outputs": [
    {
     "name": "stdout",
     "output_type": "stream",
     "text": [
      "Distribution of image categories:\n",
      "Counter({'tumor': 2546, 'no_tumor': 454})\n",
      "Distribution of image categories post-SMOTE:\n",
      "Counter({'tumor': 2546, 'no_tumor': 2546})\n"
     ]
    },
    {
     "name": "stderr",
     "output_type": "stream",
     "text": [
      "C:\\Software\\Anaconda\\lib\\site-packages\\sklearn\\preprocessing\\_label.py:98: DataConversionWarning: A column-vector y was passed when a 1d array was expected. Please change the shape of y to (n_samples, ), for example using ravel().\n",
      "  y = column_or_1d(y, warn=True)\n",
      "C:\\Software\\Anaconda\\lib\\site-packages\\sklearn\\preprocessing\\_label.py:154: DataConversionWarning: A column-vector y was passed when a 1d array was expected. Please change the shape of y to (n_samples, ), for example using ravel().\n",
      "  y = column_or_1d(y, warn=True)\n"
     ]
    },
    {
     "name": "stdout",
     "output_type": "stream",
     "text": [
      "b\n",
      "(5092, 256, 256, 3)\n",
      "c\n",
      "(5092, 800)\n"
     ]
    }
   ],
   "source": [
    "data_path=\"dataset/\"\n",
    "file = \"label.csv\"\n",
    "\n",
    "x_train_val, x_test, y_train_val, y_test = preprocessing_data(data_path, file, 'training')"
   ]
  },
  {
   "cell_type": "markdown",
   "id": "c13dc4b9-2829-4f3a-9bae-37efbd4f0b07",
   "metadata": {},
   "source": [
    "## Finding Model (KNN,SVC with GridSearchCV)"
   ]
  },
  {
   "cell_type": "code",
   "execution_count": 259,
   "id": "5010b98d-c0d3-4191-9b23-4847245b1fe5",
   "metadata": {},
   "outputs": [
    {
     "name": "stdout",
     "output_type": "stream",
     "text": [
      "\n",
      "Searching best KNN parameters.\n",
      "Classifier: KNN\n",
      "Best Parameters: {'n_neighbors': 7}\n",
      "Best Validation Accuracy: 0.682794\n",
      "Classifier Performance: KNN\n",
      "Test Accuracy: 0.7026\n",
      "Test Precision: 0.7395\n",
      "Test Recall: 0.6442\n",
      "Test F1-score: 0.6886\n",
      "\n",
      "Searching best SVM parameters.\n",
      "Classifier: SVM\n",
      "Best Parameters: {'C': 0.7, 'kernel': 'rbf'}\n",
      "Best Validation Accuracy: 0.707090\n",
      "Classifier Performance: SVM\n",
      "Test Accuracy: 0.7174\n",
      "Test Precision: 0.7397\n",
      "Test Recall: 0.6885\n",
      "Test F1-score: 0.7131\n"
     ]
    }
   ],
   "source": [
    "find_model(x_train_val, y_train_val)"
   ]
  },
  {
   "cell_type": "markdown",
   "id": "8bb89eb1-67d9-4c92-878e-c486a1c92c83",
   "metadata": {},
   "source": [
    "## Training and Validation (SVC)"
   ]
  },
  {
   "cell_type": "code",
   "execution_count": 260,
   "id": "26f141cf-9e63-483d-9b9b-16255b3fb0e0",
   "metadata": {},
   "outputs": [
    {
     "name": "stdout",
     "output_type": "stream",
     "text": [
      "5 Fold Cross Validation is used.\n",
      "SVM Classifier 5-Fold CV:\n",
      "Average Acc: 0.7093\n",
      "Average Precision: 0.7212\n",
      "Average recall: 0.6987\n",
      "Average F1 Score: 0.6793 \n",
      "\n"
     ]
    }
   ],
   "source": [
    "train_SVC(x_train_val,y_train_val)"
   ]
  },
  {
   "cell_type": "markdown",
   "id": "80302b17-818e-40a3-8edb-3fe8783880c4",
   "metadata": {},
   "source": [
    "# Testing (using splitted sample data)"
   ]
  },
  {
   "cell_type": "code",
   "execution_count": 261,
   "id": "ca8a3a66-7757-4533-bfc4-3ebb4262956f",
   "metadata": {
    "tags": []
   },
   "outputs": [
    {
     "name": "stdout",
     "output_type": "stream",
     "text": [
      "Accuracy on test set: 0.719332679097154\n",
      "              precision    recall  f1-score   support\n",
      "\n",
      "           0       0.71      0.73      0.72       499\n",
      "           1       0.73      0.71      0.72       520\n",
      "\n",
      "    accuracy                           0.72      1019\n",
      "   macro avg       0.72      0.72      0.72      1019\n",
      "weighted avg       0.72      0.72      0.72      1019\n",
      "\n"
     ]
    },
    {
     "data": {
      "text/plain": [
       "<Figure size 360x360 with 0 Axes>"
      ]
     },
     "metadata": {},
     "output_type": "display_data"
    },
    {
     "data": {
      "image/png": "[encoded data removed]",
      "text/plain": [
       "<Figure size 432x288 with 2 Axes>"
      ]
     },
     "metadata": {
      "needs_background": "light"
     },
     "output_type": "display_data"
    }
   ],
   "source": [
    "test_model(x_test,y_test)"
   ]
  },
  {
   "cell_type": "markdown",
   "id": "ab24b7bd-5cf1-4ca3-ab8f-9413f76735a6",
   "metadata": {},
   "source": [
    "# TO DO!!!"
   ]
  },
  {
   "cell_type": "code",
   "execution_count": 1,
   "id": "ddb37e99-3593-4c9a-88cf-ed3b0b1aa9a8",
   "metadata": {},
   "outputs": [],
   "source": [
    "#add cross validation for svc\n",
    "#add gridsearch\n",
    "#tidy up functions"
   ]
  }
 ],
 "metadata": {
  "kernelspec": {
   "display_name": "Python 3 (ipykernel)",
   "language": "python",
   "name": "python3"
  },
  "language_info": {
   "codemirror_mode": {
    "name": "ipython",
    "version": 3
   },
   "file_extension": ".py",
   "mimetype": "text/x-python",
   "name": "python",
   "nbconvert_exporter": "python",
   "pygments_lexer": "ipython3",
   "version": "3.8.8"
  },
  "toc-autonumbering": false
 },
 "nbformat": 4,
 "nbformat_minor": 5
}
