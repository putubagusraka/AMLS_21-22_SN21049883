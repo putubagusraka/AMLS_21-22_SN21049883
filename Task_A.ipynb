{
 "cells": [
  {
   "cell_type": "code",
   "execution_count": 1,
   "id": "2016df5a-6687-40a1-8991-b6aaa0966509",
   "metadata": {},
   "outputs": [],
   "source": [
    "import os\n",
    "import pandas as pd\n",
    "import numpy as np\n",
    "import time\n",
    "import cv2\n",
    "import tensorflow as tf\n",
    "import keras.backend as K\n",
    "import keras\n",
    "\n",
    "from sklearn.preprocessing import OneHotEncoder\n",
    "from sklearn.model_selection import train_test_split\n",
    "from sklearn.linear_model import LogisticRegression\n",
    "from sklearn.metrics import confusion_matrix, classification_report,accuracy_score\n",
    "from sklearn.preprocessing import MinMaxScaler\n",
    "from sklearn.preprocessing import StandardScaler\n",
    "from sklearn import svm\n",
    "from sklearn.metrics import ConfusionMatrixDisplay\n",
    "import matplotlib.pyplot as plt\n",
    "from sklearn.metrics import plot_confusion_matrix\n",
    "import seaborn as sn\n",
    "\n",
    "import pickle\n",
    "import joblib\n",
    "from joblib import dump, load"
   ]
  },
  {
   "cell_type": "markdown",
   "id": "82192ba2-ea53-4fa2-8206-564b2fa529e3",
   "metadata": {},
   "source": [
    "# Data Preprocessing"
   ]
  },
  {
   "cell_type": "code",
   "execution_count": 2,
   "id": "25150276-036d-4e43-b5cf-6491b580ed07",
   "metadata": {},
   "outputs": [],
   "source": [
    "def preprocessing_data(output_type):\n",
    "    data_path=\"dataset/\"\n",
    "    file = \"label.csv\"\n",
    "    data=pd.read_csv(data_path+file)\n",
    "    file_names=list(data['file_name'])\n",
    "    labels=list(data['label'])\n",
    "    \n",
    "    if output_type == 'ohe':\n",
    "        data['tumor_label'] = data['label'].apply(lambda x: \"no_tumor\" if x == \"no_tumor\" else \"tumor\")\n",
    "        data = data.drop(columns = ['label'])\n",
    "        labels=data['tumor_label'].values.reshape(-1,1)\n",
    "        ohe = OneHotEncoder(handle_unknown = \"ignore\", sparse=False)\n",
    "        labels = ohe.fit_transform(labels)\n",
    "    \n",
    "    if output_type == 'binary':\n",
    "        data['tumor_label'] = data['label'].apply(lambda x: 0 if x == \"no_tumor\" else 1)\n",
    "        data = data.drop(columns = ['label'])\n",
    "        labels=data['tumor_label'].values.reshape(-1,1)\n",
    "        \n",
    "    dataset_tumor=[]\n",
    "\n",
    "    for file_index in range(len(file_names)):\n",
    "        file=cv2.imread(data_path+\"/image/\"+file_names[file_index])\n",
    "        file_resize=cv2.resize(file,(128,128))/255.\n",
    "        dataset_tumor.append(file_resize)\n",
    "        \n",
    "    tumor_data = np.array(dataset_tumor)\n",
    "    \n",
    "    return tumor_data, labels\n",
    "\n",
    "def generate_training_set():\n",
    "    tumor_data, labels = preprocessing_data('binary')\n",
    "    x_train,x_test,y_train,y_test = train_test_split(tumor_data,labels,test_size=0.2,random_state=25)\n",
    "    x_train = x_train.reshape(x_train.shape[0],128*128*3)\n",
    "    x_test = x_test.reshape(x_test.shape[0],128*128*3)\n",
    "    y_train = y_train.ravel()\n",
    "    \n",
    "    scaler = StandardScaler()\n",
    "    x_train = scaler.fit_transform(x_train)\n",
    "    x_test = scaler.transform(x_test)\n",
    "    joblib.dump(scaler, \"Task A Assets/Task_A_Scaler\")\n",
    "    \n",
    "    return x_train, x_test, y_train, y_test, scaler"
   ]
  },
  {
   "cell_type": "code",
   "execution_count": 3,
   "id": "1d53dab7-2f09-4562-98b3-1d1fdbe71f3e",
   "metadata": {},
   "outputs": [],
   "source": [
    "x_train, x_test, y_train, y_test, scaler = generate_training_set()"
   ]
  },
  {
   "cell_type": "markdown",
   "id": "50ebba55-b977-438a-beed-0c46d827060e",
   "metadata": {},
   "source": [
    "# Training and Validation"
   ]
  },
  {
   "cell_type": "markdown",
   "id": "8bb89eb1-67d9-4c92-878e-c486a1c92c83",
   "metadata": {},
   "source": [
    "## SVM"
   ]
  },
  {
   "cell_type": "code",
   "execution_count": 4,
   "id": "07131bc0-0cc9-4461-8742-52e26634db35",
   "metadata": {},
   "outputs": [],
   "source": [
    "def SVM():\n",
    "    clf = svm.SVC()\n",
    "    clf.fit(x_train, y_train)\n",
    "    filename = \"Task A Assets/Task_A_SVM_Model\"\n",
    "    pickle.dump(clf, open(filename, 'wb'))"
   ]
  },
  {
   "cell_type": "code",
   "execution_count": 5,
   "id": "a6e30483-cd31-479a-a64a-ff982f9b16bf",
   "metadata": {},
   "outputs": [],
   "source": [
    "model = SVM()"
   ]
  },
  {
   "cell_type": "markdown",
   "id": "80302b17-818e-40a3-8edb-3fe8783880c4",
   "metadata": {},
   "source": [
    "# Testing (using splitted sample data)"
   ]
  },
  {
   "cell_type": "code",
   "execution_count": 6,
   "id": "6244fbe6-af83-426e-8ef5-3454ebb8908d",
   "metadata": {},
   "outputs": [],
   "source": [
    "def test_model(x_test,y_test):\n",
    "    filename = \"Task A Assets/Task_A_SVM_Model\"\n",
    "    clf = pickle.load(open(filename, 'rb'))\n",
    "    \n",
    "    y_pred_svm = clf.predict(x_test)\n",
    "    print('Accuracy on test set: '+str(accuracy_score(y_test,y_pred_svm)))\n",
    "    #text report showing the main classification metrics\n",
    "    print(classification_report(y_test,y_pred_svm))\n",
    "    plt.figure(figsize = (5,5))\n",
    "    ConfusionMatrixDisplay.from_predictions(y_test, y_pred_svm, cmap = 'Blues')\n",
    "    plt.show()"
   ]
  },
  {
   "cell_type": "code",
   "execution_count": 7,
   "id": "ca8a3a66-7757-4533-bfc4-3ebb4262956f",
   "metadata": {},
   "outputs": [
    {
     "name": "stdout",
     "output_type": "stream",
     "text": [
      "Accuracy on test set: 0.955\n",
      "              precision    recall  f1-score   support\n",
      "\n",
      "           0       0.92      0.71      0.80        77\n",
      "           1       0.96      0.99      0.97       523\n",
      "\n",
      "    accuracy                           0.95       600\n",
      "   macro avg       0.94      0.85      0.89       600\n",
      "weighted avg       0.95      0.95      0.95       600\n",
      "\n"
     ]
    },
    {
     "data": {
      "text/plain": [
       "<Figure size 360x360 with 0 Axes>"
      ]
     },
     "metadata": {},
     "output_type": "display_data"
    },
    {
     "data": {
      "image/png": "[encoded data removed]",
      "text/plain": [
       "<Figure size 432x288 with 2 Axes>"
      ]
     },
     "metadata": {
      "needs_background": "light"
     },
     "output_type": "display_data"
    }
   ],
   "source": [
    "test_model(x_test,y_test)"
   ]
  },
  {
   "cell_type": "markdown",
   "id": "b9565c1f-93f8-4a7f-8335-91bd17ecb46b",
   "metadata": {},
   "source": [
    "# Testing (with foreign data)"
   ]
  },
  {
   "cell_type": "code",
   "execution_count": 8,
   "id": "5e394d6e-8d65-4cd1-8b72-b3bf01782f69",
   "metadata": {},
   "outputs": [],
   "source": [
    "## make function to graphically show result and label with plot\n",
    "def test_picture(index):\n",
    "    test_dataset_tumor=[]\n",
    "    test_true_labels = []\n",
    "    test_images = []\n",
    "    \n",
    "    data_path = \"dataset/\"\n",
    "    \n",
    "    data=pd.read_csv(data_path+\"label.csv\")\n",
    "    rows = len(index)\n",
    "    index = [\"%04d\" % x for x in index]\n",
    "    for i in index:\n",
    "        file_name = \"IMAGE_\"+i+\".jpg\"\n",
    "        file = cv2.imread(data_path+\"image/\"+file_name)\n",
    "        file_resize = cv2.resize(file,(128,128))/255.\n",
    "        \n",
    "        plt.figure()\n",
    "        plt.title(file_name)\n",
    "        plt.imshow(file_resize)\n",
    "        true_label = data[\"label\"].loc[data['file_name'] == file_name].apply(lambda x: 0 if x == \"no_tumor\" else 1).values\n",
    "        \n",
    "        test_images.append(file_name)\n",
    "        test_true_labels.append(true_label[0])\n",
    "        test_dataset_tumor.append(file_resize)\n",
    "    \n",
    "    test_tumor_data = np.array(test_dataset_tumor)\n",
    "    print(test_tumor_data.shape)\n",
    "    \n",
    "    test_tumor_data = test_tumor_data.reshape(rows,128*128*3)\n",
    "    \n",
    "    filename = \"Task A Assets/Task_A_SVM_Model\"\n",
    "    clf = pickle.load(open(filename, 'rb'))\n",
    "    \n",
    "    \n",
    "    scaler = joblib.load(\"Task A Assets/Task_A_Scaler\")\n",
    "    test_tumor_data = scaler.transform(test_tumor_data)\n",
    "    pred_labels = clf.predict(test_tumor_data)\n",
    "    \n",
    "    for j in range(rows):\n",
    "        print(\"Image: \"+ test_images[j] +\" ,True label: \" + str(test_true_labels[j]) + \", Predicted label: \" + str(pred_labels[j]))"
   ]
  },
  {
   "cell_type": "code",
   "execution_count": 9,
   "id": "1fde48e2-dbed-4f74-9066-e1665e9adade",
   "metadata": {},
   "outputs": [
    {
     "name": "stdout",
     "output_type": "stream",
     "text": [
      "(1, 128, 128, 3)\n",
      "Image: IMAGE_0100.jpg ,True label: 1, Predicted label: 1\n"
     ]
    },
    {
     "data": {
      "image/png": "[encoded data removed]",
      "text/plain": [
       "<Figure size 432x288 with 1 Axes>"
      ]
     },
     "metadata": {
      "needs_background": "light"
     },
     "output_type": "display_data"
    }
   ],
   "source": [
    "test_picture(range(100,101))"
   ]
  }
 ],
 "metadata": {
  "kernelspec": {
   "display_name": "Python 3 (ipykernel)",
   "language": "python",
   "name": "python3"
  },
  "language_info": {
   "codemirror_mode": {
    "name": "ipython",
    "version": 3
   },
   "file_extension": ".py",
   "mimetype": "text/x-python",
   "name": "python",
   "nbconvert_exporter": "python",
   "pygments_lexer": "ipython3",
   "version": "3.8.8"
  }
 },
 "nbformat": 4,
 "nbformat_minor": 5
}
