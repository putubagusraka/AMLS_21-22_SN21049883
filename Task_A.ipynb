{
 "cells": [
  {
   "cell_type": "code",
   "execution_count": 10,
   "id": "2016df5a-6687-40a1-8991-b6aaa0966509",
   "metadata": {},
   "outputs": [],
   "source": [
    "import os\n",
    "import pandas as pd\n",
    "import numpy as np\n",
    "import time\n",
    "import cv2\n",
    "import tensorflow as tf\n",
    "import keras.backend as K\n",
    "import keras\n",
    "\n",
    "from sklearn.preprocessing import OneHotEncoder\n",
    "from sklearn.model_selection import train_test_split\n",
    "from sklearn.linear_model import LogisticRegression\n",
    "from sklearn.metrics import confusion_matrix, classification_report,accuracy_score\n",
    "from sklearn import preprocessing\n",
    "from sklearn import svm\n",
    "from sklearn.metrics import ConfusionMatrixDisplay\n",
    "import matplotlib.pyplot as plt\n",
    "from sklearn.metrics import plot_confusion_matrix\n",
    "import seaborn as sn\n",
    "\n",
    "import pickle\n",
    "import joblib\n",
    "from joblib import dump, load\n",
    "\n",
    "from collections import Counter\n",
    "from imblearn.over_sampling import SMOTE "
   ]
  },
  {
   "cell_type": "markdown",
   "id": "82192ba2-ea53-4fa2-8206-564b2fa529e3",
   "metadata": {},
   "source": [
    "# Data Preprocessing"
   ]
  },
  {
   "cell_type": "code",
   "execution_count": 40,
   "id": "25150276-036d-4e43-b5cf-6491b580ed07",
   "metadata": {},
   "outputs": [],
   "source": [
    "def file_name_encoding_init(file_names):\n",
    "    le_filename = preprocessing.LabelEncoder()\n",
    "    le_filename.fit(file_names)\n",
    "    dump(le_filename, 'Task A Assets/Task_A_file_name_encoder.joblib') \n",
    "\n",
    "def label_encoding_init(labels):\n",
    "    le_label = preprocessing.LabelEncoder()\n",
    "    le_label.fit(labels)\n",
    "    dump(le_label, 'Task A Assets/Task_A_label_encoder.joblib') \n",
    "\n",
    "def SMOTE_preprocessing(file_names, labels):\n",
    "    le_filename = joblib.load('Task A Assets/Task_A_file_name_encoder.joblib')\n",
    "    le_filename.fit(file_names)\n",
    "    le_file_names = le_filename.transform(file_names).reshape(-1,1)\n",
    "    print(le_file_names.shape)\n",
    "    \n",
    "    sm = SMOTE()\n",
    "    SMOTE_file_names, SMOTE_labels = sm.fit_resample(le_file_names, labels)\n",
    "    print(\"Distribution of image categories post-SMOTE:\")\n",
    "    print(Counter(list(SMOTE_labels)))\n",
    "    \n",
    "    SMOTE_file_names = le_filename.inverse_transform(SMOTE_file_names)\n",
    "\n",
    "    return SMOTE_file_names, SMOTE_labels\n",
    "\n",
    "def image_processing(file_names):\n",
    "    dataset_tumor=[]\n",
    "    for file_name in file_names:\n",
    "        file=cv2.imread(data_path+\"/image/\"+file_name)\n",
    "        file_resize=cv2.resize(file,(128,128))/255.\n",
    "        dataset_tumor.append(file_resize)\n",
    "    tumor_data = np.array(dataset_tumor)\n",
    "    return tumor_data\n",
    "\n",
    "def preprocessing_data(data_path, file, status):\n",
    "\n",
    "    data=pd.read_csv(data_path+file)\n",
    "    file_names=list(data['file_name'])\n",
    "    data['label'] = data['label'].apply(lambda x: \"no_tumor\" if x == \"no_tumor\" else \"tumor\")\n",
    "    labels=data['label'].values.reshape(-1,1)\n",
    "    \n",
    "    if status == 'training':\n",
    "        \n",
    "        print(\"Distribution of image categories:\")\n",
    "        print(Counter(list(data['label'])))\n",
    "    \n",
    "        file_name_encoding_init(file_names)\n",
    "        label_encoding_init(labels)\n",
    "        \n",
    "        \n",
    "        file_names, labels = SMOTE_preprocessing(file_names, labels)\n",
    "        x_train,x_test,y_train,y_test = train_test_split(file_names,labels,test_size=0.2)\n",
    "        \n",
    "        x_train = image_processing(x_train)\n",
    "        x_test = image_processing(x_test)\n",
    "\n",
    "        le_label = joblib.load('Task A Assets/Task_A_label_encoder.joblib')\n",
    "        \n",
    "        y_train = le_label.transform(y_train)\n",
    "        y_test = le_label.transform(y_test)\n",
    "\n",
    "        x_train = x_train.reshape(x_train.shape[0],128*128*3)\n",
    "        x_test = x_test.reshape(x_test.shape[0],128*128*3)\n",
    "        y_train = y_train.ravel()\n",
    "        y_test = y_test.ravel()\n",
    "        \n",
    "        return x_train, x_test, y_train, y_test\n",
    "\n",
    "    \n",
    "    elif status == 'testing':\n",
    "        le_label = joblib.load('Task A Assets/Task_A_label_encoder.joblib')\n",
    "        y_test = le_label.transform(labels)\n",
    "        x_test = image_processing(file_names) \n",
    "                              \n",
    "        return x_test, y_test\n",
    "    \n",
    "\n",
    "def define_SVC():\n",
    "    svc = svm.SVC()\n",
    "    return svc\n",
    "\n",
    "    \n",
    "def train_SVC(x_train,y_train):\n",
    "    model = define_SVC()\n",
    "    model.fit(x_train, y_train)\n",
    "    pickle.dump(model, open(\"Task A Assets/Task_A_SVM_Model\", 'wb'))\n",
    "    \n",
    "    return model\n",
    "\n",
    "def test_model(x_test, y_test):\n",
    "\n",
    "    loaded_model = pickle.load(open(\"Task A Assets/Task_A_SVM_Model\", 'rb'))\n",
    "    y_pred_svm = loaded_model.predict(x_test)\n",
    "    print('Accuracy on test set: '+str(accuracy_score(y_test,y_pred_svm)))\n",
    "    \n",
    "    #text report showing the main classification metrics\n",
    "    print(classification_report(y_test,y_pred_svm))\n",
    "    plt.figure(figsize = (5,5))\n",
    "    ConfusionMatrixDisplay.from_predictions(y_test, y_pred_svm, cmap = 'Blues')\n",
    "    plt.show()"
   ]
  },
  {
   "cell_type": "markdown",
   "id": "50ebba55-b977-438a-beed-0c46d827060e",
   "metadata": {},
   "source": [
    "## Data Preprocessing (Training)"
   ]
  },
  {
   "cell_type": "code",
   "execution_count": 38,
   "id": "08e983bd-03cb-4c01-b911-eca49a9da7e1",
   "metadata": {},
   "outputs": [
    {
     "name": "stdout",
     "output_type": "stream",
     "text": [
      "Distribution of image categories:\n",
      "Counter({'tumor': 2546, 'no_tumor': 454})\n",
      "(3000, 1)\n",
      "Distribution of image categories post-SMOTE:\n",
      "Counter({'tumor': 2546, 'no_tumor': 2546})\n"
     ]
    },
    {
     "name": "stderr",
     "output_type": "stream",
     "text": [
      "C:\\Software\\Anaconda\\lib\\site-packages\\sklearn\\preprocessing\\_label.py:98: DataConversionWarning: A column-vector y was passed when a 1d array was expected. Please change the shape of y to (n_samples, ), for example using ravel().\n",
      "  y = column_or_1d(y, warn=True)\n",
      "C:\\Software\\Anaconda\\lib\\site-packages\\sklearn\\preprocessing\\_label.py:154: DataConversionWarning: A column-vector y was passed when a 1d array was expected. Please change the shape of y to (n_samples, ), for example using ravel().\n",
      "  y = column_or_1d(y, warn=True)\n"
     ]
    }
   ],
   "source": [
    "data_path=\"dataset/\"\n",
    "file = \"label.csv\"\n",
    "\n",
    "x_train, x_test, y_train, y_test = preprocessing_data(data_path, file, 'training')"
   ]
  },
  {
   "cell_type": "markdown",
   "id": "8bb89eb1-67d9-4c92-878e-c486a1c92c83",
   "metadata": {},
   "source": [
    "## Training and Validation"
   ]
  },
  {
   "cell_type": "code",
   "execution_count": 39,
   "id": "a6e30483-cd31-479a-a64a-ff982f9b16bf",
   "metadata": {},
   "outputs": [],
   "source": [
    "model = train_SVC(x_train, y_train)"
   ]
  },
  {
   "cell_type": "markdown",
   "id": "80302b17-818e-40a3-8edb-3fe8783880c4",
   "metadata": {},
   "source": [
    "# Testing (using splitted sample data)"
   ]
  },
  {
   "cell_type": "code",
   "execution_count": 41,
   "id": "ca8a3a66-7757-4533-bfc4-3ebb4262956f",
   "metadata": {},
   "outputs": [
    {
     "name": "stdout",
     "output_type": "stream",
     "text": [
      "Accuracy on test set: 0.677134445534838\n",
      "              precision    recall  f1-score   support\n",
      "\n",
      "           0       0.79      0.46      0.59       499\n",
      "           1       0.63      0.88      0.74       520\n",
      "\n",
      "    accuracy                           0.68      1019\n",
      "   macro avg       0.71      0.67      0.66      1019\n",
      "weighted avg       0.71      0.68      0.66      1019\n",
      "\n"
     ]
    },
    {
     "data": {
      "text/plain": [
       "<Figure size 360x360 with 0 Axes>"
      ]
     },
     "metadata": {},
     "output_type": "display_data"
    },
    {
     "data": {
      "image/png": "[encoded data removed]",
      "text/plain": [
       "<Figure size 432x288 with 2 Axes>"
      ]
     },
     "metadata": {
      "needs_background": "light"
     },
     "output_type": "display_data"
    }
   ],
   "source": [
    "test_model(x_test,y_test)"
   ]
  },
  {
   "cell_type": "markdown",
   "id": "ab24b7bd-5cf1-4ca3-ab8f-9413f76735a6",
   "metadata": {},
   "source": [
    "# TO DO!!!"
   ]
  },
  {
   "cell_type": "code",
   "execution_count": 1,
   "id": "ddb37e99-3593-4c9a-88cf-ed3b0b1aa9a8",
   "metadata": {},
   "outputs": [],
   "source": [
    "#add cross validation for svc\n",
    "#add gridsearch\n",
    "#tidy up functions"
   ]
  }
 ],
 "metadata": {
  "kernelspec": {
   "display_name": "Python 3 (ipykernel)",
   "language": "python",
   "name": "python3"
  },
  "language_info": {
   "codemirror_mode": {
    "name": "ipython",
    "version": 3
   },
   "file_extension": ".py",
   "mimetype": "text/x-python",
   "name": "python",
   "nbconvert_exporter": "python",
   "pygments_lexer": "ipython3",
   "version": "3.8.8"
  },
  "toc-autonumbering": false
 },
 "nbformat": 4,
 "nbformat_minor": 5
}
