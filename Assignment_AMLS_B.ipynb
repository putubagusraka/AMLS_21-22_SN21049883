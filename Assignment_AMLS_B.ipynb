{
 "cells": [
  {
   "cell_type": "code",
   "execution_count": 1,
   "id": "6947b6bd",
   "metadata": {},
   "outputs": [],
   "source": [
    "import os\n",
    "import pandas as pd\n",
    "import numpy as np\n",
    "import time\n",
    "import cv2\n",
    "import tensorflow as tf\n",
    "import keras.backend as K\n",
    "import keras\n",
    "from tensorflow.keras import layers\n",
    "\n",
    "from tensorflow.keras.models import Sequential\n",
    "from tensorflow.keras.layers import Conv2D\n",
    "from tensorflow.keras.layers import MaxPooling2D\n",
    "from tensorflow.keras.layers import Flatten\n",
    "from tensorflow.keras.layers import Dense\n",
    "from tensorflow.keras.layers import Dropout\n",
    "from tensorflow.keras.layers import BatchNormalization\n",
    "from tensorflow.keras.optimizers import Adam, SGD\n",
    "##from tensorflow.keras.utils import multi_gpu_model\n",
    "\n",
    "from keras.callbacks import LearningRateScheduler\n",
    "from keras.callbacks import EarlyStopping\n",
    "\n",
    "import sklearn\n",
    "from sklearn import preprocessing\n",
    "from sklearn.preprocessing import OneHotEncoder\n",
    "from sklearn.model_selection import KFold\n",
    "from sklearn.model_selection import train_test_split\n",
    "from sklearn.metrics import accuracy_score,precision_score,f1_score,recall_score\n",
    "from sklearn.metrics import confusion_matrix\n",
    "\n",
    "import matplotlib.pyplot as plt\n",
    "from matplotlib import pyplot\n",
    "import seaborn as sns\n",
    "\n",
    "from tensorflow.keras import datasets, layers, models\n",
    "from keras.layers import Activation, Dense\n",
    "import matplotlib.pyplot as plt"
   ]
  },
  {
   "cell_type": "code",
   "execution_count": 2,
   "id": "047be41e",
   "metadata": {},
   "outputs": [
    {
     "name": "stdout",
     "output_type": "stream",
     "text": [
      "[name: \"/device:CPU:0\"\n",
      "device_type: \"CPU\"\n",
      "memory_limit: 268435456\n",
      "locality {\n",
      "}\n",
      "incarnation: 6023352335794323552\n",
      ", name: \"/device:GPU:0\"\n",
      "device_type: \"GPU\"\n",
      "memory_limit: 3665166336\n",
      "locality {\n",
      "  bus_id: 1\n",
      "  links {\n",
      "  }\n",
      "}\n",
      "incarnation: 3282896653846268169\n",
      "physical_device_desc: \"device: 0, name: NVIDIA GeForce RTX 3060 Laptop GPU, pci bus id: 0000:01:00.0, compute capability: 8.6\"\n",
      "]\n"
     ]
    }
   ],
   "source": [
    "from tensorflow.python.client import device_lib \n",
    "print(device_lib.list_local_devices())"
   ]
  },
  {
   "cell_type": "markdown",
   "id": "e4b59fa6",
   "metadata": {},
   "source": [
    "# Data Preprocessing"
   ]
  },
  {
   "cell_type": "markdown",
   "id": "32d092da",
   "metadata": {},
   "source": [
    "We first must analyze our dataset and understand the characteristics of the data we wish to understand."
   ]
  },
  {
   "cell_type": "code",
   "execution_count": 3,
   "id": "189c88ba",
   "metadata": {},
   "outputs": [],
   "source": [
    "data_path=\"dataset/\"\n",
    "data=pd.read_csv(data_path+\"label.csv\")\n",
    "file_names=list(data['file_name'])\n",
    "labels=data['label'].values.reshape(-1,1)"
   ]
  },
  {
   "cell_type": "code",
   "execution_count": 4,
   "id": "7e51fd5d-0bad-4c87-ac2b-9f824edfe05b",
   "metadata": {},
   "outputs": [
    {
     "data": {
      "text/plain": [
       "array([['meningioma_tumor'],\n",
       "       ['no_tumor'],\n",
       "       ['meningioma_tumor'],\n",
       "       ...,\n",
       "       ['glioma_tumor'],\n",
       "       ['glioma_tumor'],\n",
       "       ['pituitary_tumor']], dtype=object)"
      ]
     },
     "execution_count": 4,
     "metadata": {},
     "output_type": "execute_result"
    }
   ],
   "source": [
    "labels"
   ]
  },
  {
   "cell_type": "code",
   "execution_count": 5,
   "id": "e79fedd9",
   "metadata": {},
   "outputs": [
    {
     "data": {
      "text/plain": [
       "array(['meningioma_tumor', 'no_tumor', 'glioma_tumor', 'pituitary_tumor'],\n",
       "      dtype=object)"
      ]
     },
     "execution_count": 5,
     "metadata": {},
     "output_type": "execute_result"
    }
   ],
   "source": [
    "data.label.unique()"
   ]
  },
  {
   "cell_type": "code",
   "execution_count": 6,
   "id": "0f36d878",
   "metadata": {},
   "outputs": [
    {
     "data": {
      "text/plain": [
       "4"
      ]
     },
     "execution_count": 6,
     "metadata": {},
     "output_type": "execute_result"
    }
   ],
   "source": [
    "len(data.label.unique())"
   ]
  },
  {
   "cell_type": "markdown",
   "id": "d1123136",
   "metadata": {},
   "source": [
    "It is evident that the data involves 4 label/categories that describe the classes present in the dataset, which determines the number of categories that our model should model around. However, we must remember to encode our labels into numerical values so they are usable for our models. Here I label the 4 unique tumor labels with one-hot encoding to create 4 distinct columns to represent each label. Below us the process of encoding each label in our dataset from a string category to numerical category, as well as the encode mapping."
   ]
  },
  {
   "cell_type": "code",
   "execution_count": 7,
   "id": "e439cad3-23ae-4d1d-8899-f45aea5eada3",
   "metadata": {},
   "outputs": [],
   "source": [
    "ohe = OneHotEncoder(handle_unknown = \"ignore\", sparse=False)\n",
    "ohe_labels = ohe.fit_transform(labels)"
   ]
  },
  {
   "cell_type": "code",
   "execution_count": 8,
   "id": "d20f62ab-457f-4d28-bdb9-6954f32f6d4f",
   "metadata": {},
   "outputs": [
    {
     "data": {
      "text/html": [
       "<div>\n",
       "<style scoped>\n",
       "    .dataframe tbody tr th:only-of-type {\n",
       "        vertical-align: middle;\n",
       "    }\n",
       "\n",
       "    .dataframe tbody tr th {\n",
       "        vertical-align: top;\n",
       "    }\n",
       "\n",
       "    .dataframe thead th {\n",
       "        text-align: right;\n",
       "    }\n",
       "</style>\n",
       "<table border=\"1\" class=\"dataframe\">\n",
       "  <thead>\n",
       "    <tr style=\"text-align: right;\">\n",
       "      <th></th>\n",
       "      <th>file_name</th>\n",
       "      <th>label</th>\n",
       "    </tr>\n",
       "  </thead>\n",
       "  <tbody>\n",
       "    <tr>\n",
       "      <th>0</th>\n",
       "      <td>IMAGE_0000.jpg</td>\n",
       "      <td>meningioma_tumor</td>\n",
       "    </tr>\n",
       "    <tr>\n",
       "      <th>1</th>\n",
       "      <td>IMAGE_0001.jpg</td>\n",
       "      <td>no_tumor</td>\n",
       "    </tr>\n",
       "    <tr>\n",
       "      <th>2</th>\n",
       "      <td>IMAGE_0002.jpg</td>\n",
       "      <td>meningioma_tumor</td>\n",
       "    </tr>\n",
       "    <tr>\n",
       "      <th>3</th>\n",
       "      <td>IMAGE_0003.jpg</td>\n",
       "      <td>glioma_tumor</td>\n",
       "    </tr>\n",
       "    <tr>\n",
       "      <th>4</th>\n",
       "      <td>IMAGE_0004.jpg</td>\n",
       "      <td>meningioma_tumor</td>\n",
       "    </tr>\n",
       "    <tr>\n",
       "      <th>...</th>\n",
       "      <td>...</td>\n",
       "      <td>...</td>\n",
       "    </tr>\n",
       "    <tr>\n",
       "      <th>2995</th>\n",
       "      <td>IMAGE_2995.jpg</td>\n",
       "      <td>no_tumor</td>\n",
       "    </tr>\n",
       "    <tr>\n",
       "      <th>2996</th>\n",
       "      <td>IMAGE_2996.jpg</td>\n",
       "      <td>meningioma_tumor</td>\n",
       "    </tr>\n",
       "    <tr>\n",
       "      <th>2997</th>\n",
       "      <td>IMAGE_2997.jpg</td>\n",
       "      <td>glioma_tumor</td>\n",
       "    </tr>\n",
       "    <tr>\n",
       "      <th>2998</th>\n",
       "      <td>IMAGE_2998.jpg</td>\n",
       "      <td>glioma_tumor</td>\n",
       "    </tr>\n",
       "    <tr>\n",
       "      <th>2999</th>\n",
       "      <td>IMAGE_2999.jpg</td>\n",
       "      <td>pituitary_tumor</td>\n",
       "    </tr>\n",
       "  </tbody>\n",
       "</table>\n",
       "<p>3000 rows × 2 columns</p>\n",
       "</div>"
      ],
      "text/plain": [
       "           file_name             label\n",
       "0     IMAGE_0000.jpg  meningioma_tumor\n",
       "1     IMAGE_0001.jpg          no_tumor\n",
       "2     IMAGE_0002.jpg  meningioma_tumor\n",
       "3     IMAGE_0003.jpg      glioma_tumor\n",
       "4     IMAGE_0004.jpg  meningioma_tumor\n",
       "...              ...               ...\n",
       "2995  IMAGE_2995.jpg          no_tumor\n",
       "2996  IMAGE_2996.jpg  meningioma_tumor\n",
       "2997  IMAGE_2997.jpg      glioma_tumor\n",
       "2998  IMAGE_2998.jpg      glioma_tumor\n",
       "2999  IMAGE_2999.jpg   pituitary_tumor\n",
       "\n",
       "[3000 rows x 2 columns]"
      ]
     },
     "execution_count": 8,
     "metadata": {},
     "output_type": "execute_result"
    }
   ],
   "source": [
    "data"
   ]
  },
  {
   "cell_type": "code",
   "execution_count": 9,
   "id": "fd875ae9-75bb-4bd0-a138-575dbd49310c",
   "metadata": {},
   "outputs": [
    {
     "data": {
      "text/plain": [
       "array([[0., 1., 0., 0.],\n",
       "       [0., 0., 1., 0.],\n",
       "       [0., 1., 0., 0.],\n",
       "       ...,\n",
       "       [1., 0., 0., 0.],\n",
       "       [1., 0., 0., 0.],\n",
       "       [0., 0., 0., 1.]])"
      ]
     },
     "execution_count": 9,
     "metadata": {},
     "output_type": "execute_result"
    }
   ],
   "source": [
    "ohe_labels"
   ]
  },
  {
   "cell_type": "markdown",
   "id": "c2ca9d67",
   "metadata": {},
   "source": [
    "Next, we will assign each of the image files in our dataset with the corresponding label described in the csv file. Also, we will be resizing each image to a fixed resolution so that our model will learn on a single resolution. This also helps in some cases where the input image is too large, and thus we lower the processing power needed for our model."
   ]
  },
  {
   "cell_type": "code",
   "execution_count": 10,
   "id": "bc46c11c",
   "metadata": {},
   "outputs": [],
   "source": [
    "dataset_tumor=[]\n",
    "\n",
    "for file_index in range(len(file_names)):\n",
    "    file=cv2.imread(data_path+\"/image/\"+file_names[file_index])\n",
    "    file_resize=cv2.resize(file,(128,128))/255.\n",
    "    dataset_tumor.append(file_resize)"
   ]
  },
  {
   "cell_type": "markdown",
   "id": "4065e0a7-a94d-4af6-84c1-791607d3c7e0",
   "metadata": {},
   "source": [
    "Following this, we split our dataset for training and testing. The size we split on is 80:20 for training against testing. Random state parameter is used to randomize the initial point of splitting, to add extra randomization to the process."
   ]
  },
  {
   "cell_type": "markdown",
   "id": "a130be1d-1a6d-4949-9c9f-762da351875f",
   "metadata": {},
   "source": [
    "# Training and Validation"
   ]
  },
  {
   "cell_type": "code",
   "execution_count": 11,
   "id": "5a0a5892",
   "metadata": {},
   "outputs": [],
   "source": [
    "tumor_data = np.array(dataset_tumor)\n",
    "x_train,x_test,y_train,y_test=train_test_split(tumor_data,ohe_labels,test_size=0.2,random_state=25) "
   ]
  },
  {
   "cell_type": "code",
   "execution_count": 12,
   "id": "776b3ad9-39b7-4263-ad47-a8267552569a",
   "metadata": {},
   "outputs": [
    {
     "data": {
      "text/plain": [
       "(2400, 128, 128, 3)"
      ]
     },
     "execution_count": 12,
     "metadata": {},
     "output_type": "execute_result"
    }
   ],
   "source": [
    "x_train.shape"
   ]
  },
  {
   "cell_type": "code",
   "execution_count": 13,
   "id": "9df75a94-e537-4b93-85b2-551313140b63",
   "metadata": {},
   "outputs": [
    {
     "data": {
      "text/plain": [
       "(2400, 4)"
      ]
     },
     "execution_count": 13,
     "metadata": {},
     "output_type": "execute_result"
    }
   ],
   "source": [
    "y_train.shape"
   ]
  },
  {
   "cell_type": "markdown",
   "id": "945d16be-c092-4f93-9390-532bb059a625",
   "metadata": {},
   "source": [
    "Here we define our model. For the task A1, we will be using the deep learning model CNN or convolutional neural network."
   ]
  },
  {
   "cell_type": "code",
   "execution_count": 14,
   "id": "10e06280",
   "metadata": {},
   "outputs": [
    {
     "name": "stdout",
     "output_type": "stream",
     "text": [
      "Epoch 1/20\n",
      "75/75 [==============================] - 6s 15ms/step - loss: 0.8973 - mae: 0.2625 - categorical_accuracy: 0.6442\n",
      "Epoch 2/20\n",
      "75/75 [==============================] - 1s 14ms/step - loss: 0.5300 - mae: 0.1720 - categorical_accuracy: 0.8221\n",
      "Epoch 3/20\n",
      "75/75 [==============================] - 1s 14ms/step - loss: 0.2859 - mae: 0.1024 - categorical_accuracy: 0.9312\n",
      "Epoch 4/20\n",
      "75/75 [==============================] - 1s 14ms/step - loss: 0.1250 - mae: 0.0495 - categorical_accuracy: 0.9812\n",
      "Epoch 5/20\n",
      "75/75 [==============================] - 1s 14ms/step - loss: 0.0519 - mae: 0.0228 - categorical_accuracy: 0.9975\n",
      "Epoch 6/20\n",
      "75/75 [==============================] - 1s 14ms/step - loss: 0.0245 - mae: 0.0111 - categorical_accuracy: 0.9992\n",
      "Epoch 7/20\n",
      "75/75 [==============================] - 1s 14ms/step - loss: 0.0145 - mae: 0.0067 - categorical_accuracy: 0.9992\n",
      "Epoch 8/20\n",
      "75/75 [==============================] - 1s 14ms/step - loss: 0.0100 - mae: 0.0047 - categorical_accuracy: 0.9996\n",
      "Epoch 9/20\n",
      "75/75 [==============================] - 1s 14ms/step - loss: 0.0072 - mae: 0.0035 - categorical_accuracy: 0.9996\n",
      "Epoch 10/20\n",
      "75/75 [==============================] - 1s 14ms/step - loss: 0.0058 - mae: 0.0028 - categorical_accuracy: 0.9996\n",
      "Epoch 11/20\n",
      "75/75 [==============================] - 1s 14ms/step - loss: 0.0044 - mae: 0.0022 - categorical_accuracy: 1.0000\n",
      "Epoch 12/20\n",
      "75/75 [==============================] - 1s 14ms/step - loss: 0.0037 - mae: 0.0018 - categorical_accuracy: 1.0000\n",
      "Epoch 13/20\n",
      "75/75 [==============================] - 1s 14ms/step - loss: 0.0032 - mae: 0.0016 - categorical_accuracy: 1.0000\n",
      "Epoch 14/20\n",
      "75/75 [==============================] - 1s 14ms/step - loss: 0.0028 - mae: 0.0014 - categorical_accuracy: 1.0000\n",
      "Epoch 15/20\n",
      "75/75 [==============================] - 1s 14ms/step - loss: 0.0025 - mae: 0.0012 - categorical_accuracy: 1.0000\n",
      "Epoch 16/20\n",
      "75/75 [==============================] - 1s 14ms/step - loss: 0.0022 - mae: 0.0011 - categorical_accuracy: 1.0000\n",
      "Epoch 17/20\n",
      "75/75 [==============================] - 1s 15ms/step - loss: 0.0020 - mae: 0.0010 - categorical_accuracy: 1.0000\n",
      "Epoch 18/20\n",
      "75/75 [==============================] - 1s 16ms/step - loss: 0.0019 - mae: 9.2329e-04 - categorical_accuracy: 1.0000\n",
      "Epoch 19/20\n",
      "75/75 [==============================] - 1s 15ms/step - loss: 0.0017 - mae: 8.4889e-04 - categorical_accuracy: 1.0000\n",
      "Epoch 20/20\n",
      "75/75 [==============================] - 1s 15ms/step - loss: 0.0016 - mae: 7.8544e-04 - categorical_accuracy: 1.0000\n"
     ]
    },
    {
     "data": {
      "text/plain": [
       "<keras.callbacks.History at 0x28598a3b640>"
      ]
     },
     "execution_count": 14,
     "metadata": {},
     "output_type": "execute_result"
    }
   ],
   "source": [
    "\n",
    "initial_layer=keras.Input(shape=(128,128,3),name=\"image\")\n",
    "\n",
    "x1=layers.Conv2D(64,(22,22),strides=2)(initial_layer)\n",
    "x1=layers.MaxPooling2D((4,4))(x1)\n",
    "x1=layers.BatchNormalization()(x1)\n",
    "\n",
    "x2=layers.Conv2D(128,(11,11),strides=2,padding=\"same\")(x1)\n",
    "x2=layers.MaxPooling2D((2,2))(x2)\n",
    "x2=layers.BatchNormalization()(x2)\n",
    "\n",
    "x3=layers.Conv2D(256,(7,7),strides=2,padding=\"same\")(x2)\n",
    "x3=layers.MaxPooling2D((2,2))(x3)\n",
    "x3=layers.BatchNormalization()(x3)\n",
    "\n",
    "x4=layers.Flatten()(x3)\n",
    "x4=layers.Activation(\"relu\")(x4)\n",
    "\n",
    "x5=layers.Dense(1024,\"relu\")(x4)\n",
    "\n",
    "x6=layers.Dense(256,\"relu\")(x5)\n",
    "\n",
    "xfinal=layers.Dense(4)(x6)\n",
    "pred=layers.Activation(\"softmax\")(xfinal)\n",
    "\n",
    "model=keras.Model(inputs=initial_layer,outputs=pred)\n",
    "\n",
    "model.compile(loss=\"categorical_crossentropy\",optimizer=\"sgd\",  metrics=['mae', 'categorical_accuracy'])\n",
    "model.fit(x_train,y_train,epochs=20,batch_size=32,shuffle=False)\n"
   ]
  },
  {
   "cell_type": "markdown",
   "id": "fa1bdd75-7e8f-4054-afe2-10033a6cc1e0",
   "metadata": {},
   "source": [
    "Usually here we assess the quality of the model based on the loss performance, if it is still unsatisfactory, we repeat with different hyperparameters until we arrive at an acceptable performance. After that, we can test our model on the leftover testing data we split earlier. This showcases our model's  ability to predict on unknown data."
   ]
  },
  {
   "cell_type": "markdown",
   "id": "b4b2724d-9d90-42b2-b35c-08771872b662",
   "metadata": {},
   "source": [
    "# Testing"
   ]
  },
  {
   "cell_type": "code",
   "execution_count": 15,
   "id": "fc0b7c23-0b4e-4597-a529-d699cb1002ce",
   "metadata": {},
   "outputs": [
    {
     "name": "stdout",
     "output_type": "stream",
     "text": [
      "[[9.98273015e-01 1.51112746e-03 1.13359638e-04 1.02483515e-04]\n",
      " [6.68432564e-04 2.35902565e-03 1.08527637e-03 9.95887220e-01]\n",
      " [1.50529280e-01 1.55029789e-01 6.92071676e-01 2.36927648e-03]\n",
      " ...\n",
      " [6.85666621e-01 3.13572109e-01 5.23258583e-04 2.37985369e-04]\n",
      " [9.95464265e-01 3.89168388e-03 5.29768353e-04 1.14282353e-04]\n",
      " [2.74026988e-05 9.00004088e-05 9.99880195e-01 2.40796385e-06]]\n"
     ]
    }
   ],
   "source": [
    "result=model.predict(x_test)\n",
    "print(result)"
   ]
  },
  {
   "cell_type": "code",
   "execution_count": 16,
   "id": "e2134212-022f-418b-9e6d-8676d272d7d6",
   "metadata": {},
   "outputs": [
    {
     "data": {
      "text/plain": [
       "(600, 4)"
      ]
     },
     "execution_count": 16,
     "metadata": {},
     "output_type": "execute_result"
    }
   ],
   "source": [
    "result.shape"
   ]
  },
  {
   "cell_type": "code",
   "execution_count": 17,
   "id": "0680283b-2b75-451b-b3b5-8fce90c7717e",
   "metadata": {},
   "outputs": [
    {
     "name": "stdout",
     "output_type": "stream",
     "text": [
      "19/19 [==============================] - 0s 8ms/step - loss: 0.3019 - mae: 0.0492 - categorical_accuracy: 0.9200\n"
     ]
    },
    {
     "data": {
      "text/plain": [
       "[0.3018988072872162, 0.049152079969644547, 0.9200000166893005]"
      ]
     },
     "execution_count": 17,
     "metadata": {},
     "output_type": "execute_result"
    }
   ],
   "source": [
    "result_eval = model.evaluate(x_test,y_test)\n",
    "result_eval"
   ]
  },
  {
   "cell_type": "markdown",
   "id": "eb3886ed-83e0-4e57-b60f-42dd8d876adb",
   "metadata": {},
   "source": [
    "Here after the softmax level, we need to obtain the single class that each input data corresponds to (according to the model), so we utilize argmax to determine the predicted class, which we will then compare to the original class."
   ]
  },
  {
   "cell_type": "code",
   "execution_count": 18,
   "id": "9b222beb-e63c-4042-aace-46194c181243",
   "metadata": {},
   "outputs": [
    {
     "data": {
      "image/png": "[encoded data removed]",
      "text/plain": [
       "<Figure size 800x800 with 1 Axes>"
      ]
     },
     "metadata": {
      "needs_background": "light"
     },
     "output_type": "display_data"
    }
   ],
   "source": [
    "result_class = np.argmax(result, axis=1)\n",
    "y_test_class = np.argmax(y_test, axis=1)\n",
    "epochs=range(1,101)\n",
    "\n",
    "\n",
    "#Continuous figure\n",
    "plt.figure(figsize=(10, 10), dpi=80)\n",
    "plt.plot(epochs,y_test_class[:100],'r',label='real',color='orange')\n",
    "plt.plot(epochs,result_class[:100],'b',label='pred',color='blue')\n",
    "\n",
    "\"\"\"\n",
    "#Discrete figure\n",
    "fig = plt.figure(figsize=(10, 10), dpi=100)\n",
    "ax1 = fig.add_subplot(111)\n",
    "ax1.scatter(epochs,y_test_class[:100], s=10, c='b', marker=\"s\", label='fig 1')\n",
    "ax1.scatter(epochs,result_class[:100], s=10, c='r', marker=\"o\", label='fig 2')\n",
    "plt.legend(loc='upper left');\n",
    "\"\"\"\n",
    "plt.show()"
   ]
  },
  {
   "cell_type": "code",
   "execution_count": 19,
   "id": "c389b3d1-ec45-4dd7-9aba-a084d1a5e4b7",
   "metadata": {},
   "outputs": [
    {
     "data": {
      "text/plain": [
       "0.92"
      ]
     },
     "execution_count": 19,
     "metadata": {},
     "output_type": "execute_result"
    }
   ],
   "source": [
    "acc = sklearn.metrics.accuracy_score(result_class, \n",
    "                                     y_test_class)\n",
    "acc"
   ]
  }
 ],
 "metadata": {
  "kernelspec": {
   "display_name": "Python 3",
   "language": "python",
   "name": "python3"
  },
  "language_info": {
   "codemirror_mode": {
    "name": "ipython",
    "version": 3
   },
   "file_extension": ".py",
   "mimetype": "text/x-python",
   "name": "python",
   "nbconvert_exporter": "python",
   "pygments_lexer": "ipython3",
   "version": "3.8.8"
  }
 },
 "nbformat": 4,
 "nbformat_minor": 5
}
