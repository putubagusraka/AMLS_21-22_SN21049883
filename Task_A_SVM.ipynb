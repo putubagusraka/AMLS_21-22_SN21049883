{
 "cells": [
  {
   "cell_type": "code",
   "execution_count": 2,
   "id": "2016df5a-6687-40a1-8991-b6aaa0966509",
   "metadata": {},
   "outputs": [],
   "source": [
    "from project_functions import *"
   ]
  },
  {
   "cell_type": "markdown",
   "id": "50ebba55-b977-438a-beed-0c46d827060e",
   "metadata": {},
   "source": [
    "## Data Preprocessing (Training)"
   ]
  },
  {
   "cell_type": "code",
   "execution_count": 2,
   "id": "08e983bd-03cb-4c01-b911-eca49a9da7e1",
   "metadata": {},
   "outputs": [
    {
     "name": "stdout",
     "output_type": "stream",
     "text": [
      "Distribution of image categories:\n",
      "Counter({'tumor': 2546, 'no_tumor': 454})\n",
      "Distribution of image categories post-SMOTE:\n",
      "Counter({'tumor': 2546, 'no_tumor': 2546})\n"
     ]
    },
    {
     "name": "stderr",
     "output_type": "stream",
     "text": [
      "C:\\Software\\Anaconda\\lib\\site-packages\\sklearn\\preprocessing\\_label.py:154: DataConversionWarning: A column-vector y was passed when a 1d array was expected. Please change the shape of y to (n_samples, ), for example using ravel().\n",
      "  y = column_or_1d(y, warn=True)\n"
     ]
    }
   ],
   "source": [
    "data_path=\"dataset/\"\n",
    "file = \"label.csv\"\n",
    "\n",
    "x_train_val, x_test, y_train_val, y_test = preprocessing_data(data_path, file, 'training', 'task_a','svm')"
   ]
  },
  {
   "cell_type": "markdown",
   "id": "c13dc4b9-2829-4f3a-9bae-37efbd4f0b07",
   "metadata": {},
   "source": [
    "## Finding Best Parameters (SVM with GridSearchCV)"
   ]
  },
  {
   "cell_type": "code",
   "execution_count": 3,
   "id": "5010b98d-c0d3-4191-9b23-4847245b1fe5",
   "metadata": {},
   "outputs": [
    {
     "name": "stdout",
     "output_type": "stream",
     "text": [
      "Classifier: SVM\n",
      "Best Parameters: {'C': 0.7, 'kernel': 'rbf'}\n",
      "Best Validation Accuracy: 0.714220\n",
      "Classifier Performance: SVM\n",
      "Test Accuracy: 0.7076\n",
      "Test Precision: 0.6780\n",
      "Test Recall: 0.7850\n",
      "Test F1-score: 0.7276\n"
     ]
    }
   ],
   "source": [
    "find_SVM_params(x_train_val, y_train_val, x_test, y_test)"
   ]
  },
  {
   "cell_type": "markdown",
   "id": "8bb89eb1-67d9-4c92-878e-c486a1c92c83",
   "metadata": {},
   "source": [
    "## Training and Validation (SVM) with K-fold Cross Validation"
   ]
  },
  {
   "cell_type": "code",
   "execution_count": 4,
   "id": "26f141cf-9e63-483d-9b9b-16255b3fb0e0",
   "metadata": {},
   "outputs": [
    {
     "name": "stdout",
     "output_type": "stream",
     "text": [
      "SVM training with 3-Fold Cross Validation.\n",
      "SVM Classifier 3-Fold CV:\n",
      "Average Acc: 0.7086\n",
      "Average Precision: 0.6854\n",
      "Average recall: 0.7262\n",
      "Average F1 Score: 0.7733 \n",
      "\n"
     ]
    }
   ],
   "source": [
    "train_SVM(x_train_val,y_train_val)"
   ]
  },
  {
   "cell_type": "markdown",
   "id": "80302b17-818e-40a3-8edb-3fe8783880c4",
   "metadata": {},
   "source": [
    "# Testing (using splitted sample data)"
   ]
  },
  {
   "cell_type": "code",
   "execution_count": 5,
   "id": "ca8a3a66-7757-4533-bfc4-3ebb4262956f",
   "metadata": {},
   "outputs": [
    {
     "name": "stdout",
     "output_type": "stream",
     "text": [
      "Accuracy on test set: 0.7124631992149166\n",
      "              precision    recall  f1-score   support\n",
      "\n",
      "           0       0.78      0.60      0.68       512\n",
      "           1       0.67      0.83      0.74       507\n",
      "\n",
      "    accuracy                           0.71      1019\n",
      "   macro avg       0.73      0.71      0.71      1019\n",
      "weighted avg       0.73      0.71      0.71      1019\n",
      "\n"
     ]
    },
    {
     "data": {
      "text/plain": [
       "<Figure size 360x360 with 0 Axes>"
      ]
     },
     "metadata": {},
     "output_type": "display_data"
    },
    {
     "data": {
      "image/png": "[encoded data removed]",
      "text/plain": [
       "<Figure size 432x288 with 2 Axes>"
      ]
     },
     "metadata": {
      "needs_background": "light"
     },
     "output_type": "display_data"
    }
   ],
   "source": [
    "test_SVM(x_test,y_test)"
   ]
  },
  {
   "cell_type": "markdown",
   "id": "ab24b7bd-5cf1-4ca3-ab8f-9413f76735a6",
   "metadata": {},
   "source": [
    "# TO DO!!!"
   ]
  },
  {
   "cell_type": "code",
   "execution_count": 6,
   "id": "ddb37e99-3593-4c9a-88cf-ed3b0b1aa9a8",
   "metadata": {},
   "outputs": [],
   "source": [
    "#add a simple CNN model\n",
    "#ablation study\n",
    "#remove KNN"
   ]
  },
  {
   "cell_type": "code",
   "execution_count": 7,
   "id": "d2428dee-9ee1-4e23-9482-8514b22ae319",
   "metadata": {},
   "outputs": [
    {
     "name": "stdout",
     "output_type": "stream",
     "text": [
      "{'mean_fit_time': array([1.51753457, 1.81574718, 2.08480255, 1.43715207, 1.316945  ,\n",
      "       2.102784  , 1.34724363, 1.1451242 , 4.1372478 ]), 'std_fit_time': array([0.06025142, 0.05430734, 0.09784727, 0.02928655, 0.0268189 ,\n",
      "       0.18223376, 0.03964356, 0.05131395, 1.33129226]), 'mean_score_time': array([1.20615172, 0.50080419, 0.58588219, 1.1371328 , 0.28902872,\n",
      "       0.46850443, 0.81180795, 0.23841461, 0.40526168]), 'std_score_time': array([0.0055282 , 0.05920705, 0.03591092, 0.02742292, 0.01365732,\n",
      "       0.02685388, 0.19107747, 0.01019868, 0.00533488]), 'param_C': masked_array(data=[0.7, 0.7, 0.7, 2, 2, 2, 10, 10, 10],\n",
      "             mask=[False, False, False, False, False, False, False, False,\n",
      "                   False],\n",
      "       fill_value='?',\n",
      "            dtype=object), 'param_kernel': masked_array(data=['rbf', 'sigmoid', 'poly', 'rbf', 'sigmoid', 'poly',\n",
      "                   'rbf', 'sigmoid', 'poly'],\n",
      "             mask=[False, False, False, False, False, False, False, False,\n",
      "                   False],\n",
      "       fill_value='?',\n",
      "            dtype=object), 'params': [{'C': 0.7, 'kernel': 'rbf'}, {'C': 0.7, 'kernel': 'sigmoid'}, {'C': 0.7, 'kernel': 'poly'}, {'C': 2, 'kernel': 'rbf'}, {'C': 2, 'kernel': 'sigmoid'}, {'C': 2, 'kernel': 'poly'}, {'C': 10, 'kernel': 'rbf'}, {'C': 10, 'kernel': 'sigmoid'}, {'C': 10, 'kernel': 'poly'}], 'split0_test_score': array([0.70544919, 0.64580265, 0.62297496, 0.70029455, 0.64801178,\n",
      "       0.62592047, 0.69366716, 0.66126657, 0.64285714]), 'split1_test_score': array([0.70618557, 0.63254786, 0.62886598, 0.70397644, 0.63917526,\n",
      "       0.63696613, 0.69513991, 0.64359352, 0.64727541]), 'split2_test_score': array([0.73102432, 0.65512159, 0.65143699, 0.71628592, 0.66764923,\n",
      "       0.66175387, 0.70817981, 0.6779661 , 0.66764923]), 'mean_test_score': array([0.71421969, 0.6444907 , 0.63442598, 0.7068523 , 0.65161209,\n",
      "       0.64154682, 0.69899563, 0.66094206, 0.65259392]), 'std_test_score': array([0.01188647, 0.00926226, 0.01226668, 0.00683783, 0.01189995,\n",
      "       0.01498322, 0.00652197, 0.01403442, 0.01079743]), 'rank_test_score': array([1, 7, 9, 2, 6, 8, 3, 4, 5])}\n"
     ]
    }
   ],
   "source": [
    "model = joblib.load(\"Task A Assets/gridsearchcv_svm.pkl\")\n",
    "allscores=model.cv_results_\n",
    "print(allscores)"
   ]
  }
 ],
 "metadata": {
  "kernelspec": {
   "display_name": "Python 3 (ipykernel)",
   "language": "python",
   "name": "python3"
  },
  "language_info": {
   "codemirror_mode": {
    "name": "ipython",
    "version": 3
   },
   "file_extension": ".py",
   "mimetype": "text/x-python",
   "name": "python",
   "nbconvert_exporter": "python",
   "pygments_lexer": "ipython3",
   "version": "3.8.8"
  },
  "toc-autonumbering": false
 },
 "nbformat": 4,
 "nbformat_minor": 5
}
