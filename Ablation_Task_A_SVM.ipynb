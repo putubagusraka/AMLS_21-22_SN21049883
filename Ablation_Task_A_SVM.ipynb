{
 "cells": [
  {
   "cell_type": "code",
   "execution_count": 1,
   "id": "2016df5a-6687-40a1-8991-b6aaa0966509",
   "metadata": {},
   "outputs": [],
   "source": [
    "from project_functions import *\n",
    "from ablation_functions import *"
   ]
  },
  {
   "cell_type": "markdown",
   "id": "f8f8137a-fb30-45b6-b8bb-5c6be96e4645",
   "metadata": {},
   "source": [
    "# SVM Model with modified C (C=5), for ablation studies"
   ]
  },
  {
   "cell_type": "markdown",
   "id": "50ebba55-b977-438a-beed-0c46d827060e",
   "metadata": {},
   "source": [
    "## Data Preprocessing (Training)"
   ]
  },
  {
   "cell_type": "code",
   "execution_count": 2,
   "id": "08e983bd-03cb-4c01-b911-eca49a9da7e1",
   "metadata": {},
   "outputs": [
    {
     "name": "stdout",
     "output_type": "stream",
     "text": [
      "Distribution of image categories:\n",
      "Counter({'tumor': 2546, 'no_tumor': 454})\n",
      "Distribution of image categories post-SMOTE:\n",
      "Counter({'tumor': 2546, 'no_tumor': 2546})\n"
     ]
    }
   ],
   "source": [
    "data_path=\"dataset/\"\n",
    "file = \"label.csv\"\n",
    "\n",
    "x_train_val, x_test, y_train_val, y_test = preprocessing_data(data_path, file, 'training', 'task_a','svm')"
   ]
  },
  {
   "cell_type": "markdown",
   "id": "8bb89eb1-67d9-4c92-878e-c486a1c92c83",
   "metadata": {},
   "source": [
    "## Training and Validation (SVM) with K-fold Cross Validation"
   ]
  },
  {
   "cell_type": "code",
   "execution_count": 3,
   "id": "26f141cf-9e63-483d-9b9b-16255b3fb0e0",
   "metadata": {},
   "outputs": [
    {
     "name": "stdout",
     "output_type": "stream",
     "text": [
      "SVM training with 5-Fold Cross Validation.\n",
      "SVM Classifier 5-Fold CV:\n",
      "Average Acc: 0.5917\n",
      "Average Precision: 0.5893\n",
      "Average recall: 0.5898\n",
      "Average F1 Score: 0.5911 \n",
      "\n"
     ]
    }
   ],
   "source": [
    "ablation_train_SVM(x_train_val,y_train_val)"
   ]
  },
  {
   "cell_type": "markdown",
   "id": "80302b17-818e-40a3-8edb-3fe8783880c4",
   "metadata": {},
   "source": [
    "## Testing (using splitted original data)"
   ]
  },
  {
   "cell_type": "code",
   "execution_count": 4,
   "id": "ca8a3a66-7757-4533-bfc4-3ebb4262956f",
   "metadata": {},
   "outputs": [
    {
     "name": "stdout",
     "output_type": "stream",
     "text": [
      "Accuracy on test set: 0.5897939156035329\n",
      "              precision    recall  f1-score   support\n",
      "\n",
      "           0       0.58      0.59      0.58       499\n",
      "           1       0.60      0.59      0.59       520\n",
      "\n",
      "    accuracy                           0.59      1019\n",
      "   macro avg       0.59      0.59      0.59      1019\n",
      "weighted avg       0.59      0.59      0.59      1019\n",
      "\n"
     ]
    },
    {
     "data": {
      "text/plain": [
       "<Figure size 360x360 with 0 Axes>"
      ]
     },
     "metadata": {},
     "output_type": "display_data"
    },
    {
     "data": {
      "image/png": "[encoded data removed]",
      "text/plain": [
       "<Figure size 432x288 with 2 Axes>"
      ]
     },
     "metadata": {
      "needs_background": "light"
     },
     "output_type": "display_data"
    }
   ],
   "source": [
    "ablation_test_SVM(x_test,y_test)"
   ]
  }
 ],
 "metadata": {
  "kernelspec": {
   "display_name": "Python 3 (ipykernel)",
   "language": "python",
   "name": "python3"
  },
  "language_info": {
   "codemirror_mode": {
    "name": "ipython",
    "version": 3
   },
   "file_extension": ".py",
   "mimetype": "text/x-python",
   "name": "python",
   "nbconvert_exporter": "python",
   "pygments_lexer": "ipython3",
   "version": "3.8.8"
  },
  "toc-autonumbering": false
 },
 "nbformat": 4,
 "nbformat_minor": 5
}
