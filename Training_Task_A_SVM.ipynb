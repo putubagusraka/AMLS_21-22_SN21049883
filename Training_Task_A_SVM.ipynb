{
 "cells": [
  {
   "cell_type": "code",
   "execution_count": 1,
   "id": "2016df5a-6687-40a1-8991-b6aaa0966509",
   "metadata": {},
   "outputs": [],
   "source": [
    "from project_functions import *"
   ]
  },
  {
   "cell_type": "markdown",
   "id": "50ebba55-b977-438a-beed-0c46d827060e",
   "metadata": {},
   "source": [
    "## Data Preprocessing (Training)"
   ]
  },
  {
   "cell_type": "code",
   "execution_count": 2,
   "id": "08e983bd-03cb-4c01-b911-eca49a9da7e1",
   "metadata": {},
   "outputs": [
    {
     "name": "stdout",
     "output_type": "stream",
     "text": [
      "Distribution of image categories:\n",
      "Counter({'tumor': 2546, 'no_tumor': 454})\n",
      "Distribution of image categories post-SMOTE:\n",
      "Counter({'tumor': 2546, 'no_tumor': 2546})\n"
     ]
    }
   ],
   "source": [
    "data_path=\"dataset/\"\n",
    "file = \"label.csv\"\n",
    "\n",
    "x_train_val, x_test, y_train_val, y_test = preprocessing_data(data_path, file, 'training', 'task_a','svm')"
   ]
  },
  {
   "cell_type": "markdown",
   "id": "c13dc4b9-2829-4f3a-9bae-37efbd4f0b07",
   "metadata": {},
   "source": [
    "## Finding Best Parameters (SVM with GridSearchCV)"
   ]
  },
  {
   "cell_type": "code",
   "execution_count": 3,
   "id": "5010b98d-c0d3-4191-9b23-4847245b1fe5",
   "metadata": {},
   "outputs": [
    {
     "name": "stdout",
     "output_type": "stream",
     "text": [
      "Classifier: SVM\n",
      "Best Parameters: {'C': 0.3, 'kernel': 'rbf'}\n",
      "Best Validation Accuracy: 0.631476\n",
      "Classifier Performance: SVM\n",
      "Test Accuracy: 0.6438\n",
      "Test Precision: 0.6101\n",
      "Test Recall: 0.8175\n",
      "Test F1-score: 0.6988\n"
     ]
    }
   ],
   "source": [
    "find_SVM_params(x_train_val, y_train_val, x_test, y_test)"
   ]
  },
  {
   "cell_type": "markdown",
   "id": "8bb89eb1-67d9-4c92-878e-c486a1c92c83",
   "metadata": {},
   "source": [
    "## Training and Validation (SVM) with K-fold Cross Validation"
   ]
  },
  {
   "cell_type": "code",
   "execution_count": 4,
   "id": "26f141cf-9e63-483d-9b9b-16255b3fb0e0",
   "metadata": {},
   "outputs": [
    {
     "name": "stdout",
     "output_type": "stream",
     "text": [
      "SVM training with 5-Fold Cross Validation.\n",
      "SVM Classifier 5-Fold CV:\n",
      "Average Acc: 0.6312\n",
      "Average Precision: 0.5992\n",
      "Average recall: 0.6797\n",
      "Average F1 Score: 0.7855 \n",
      "\n"
     ]
    }
   ],
   "source": [
    "train_SVM(x_train_val,y_train_val)"
   ]
  },
  {
   "cell_type": "markdown",
   "id": "80302b17-818e-40a3-8edb-3fe8783880c4",
   "metadata": {},
   "source": [
    "# Testing (using splitted original data)"
   ]
  },
  {
   "cell_type": "code",
   "execution_count": 5,
   "id": "ca8a3a66-7757-4533-bfc4-3ebb4262956f",
   "metadata": {},
   "outputs": [
    {
     "name": "stdout",
     "output_type": "stream",
     "text": [
      "Accuracy on test set: 0.6447497546614328\n",
      "              precision    recall  f1-score   support\n",
      "\n",
      "    no_tumor       0.72      0.47      0.57       504\n",
      "       tumor       0.61      0.82      0.70       515\n",
      "\n",
      "    accuracy                           0.64      1019\n",
      "   macro avg       0.66      0.64      0.63      1019\n",
      "weighted avg       0.66      0.64      0.63      1019\n",
      "\n"
     ]
    },
    {
     "data": {
      "text/plain": [
       "<Figure size 360x360 with 0 Axes>"
      ]
     },
     "metadata": {},
     "output_type": "display_data"
    },
    {
     "data": {
      "image/png": "[encoded data removed]",
      "text/plain": [
       "<Figure size 432x288 with 2 Axes>"
      ]
     },
     "metadata": {
      "needs_background": "light"
     },
     "output_type": "display_data"
    }
   ],
   "source": [
    "test_SVM(x_test,y_test)"
   ]
  }
 ],
 "metadata": {
  "kernelspec": {
   "display_name": "Python 3 (ipykernel)",
   "language": "python",
   "name": "python3"
  },
  "language_info": {
   "codemirror_mode": {
    "name": "ipython",
    "version": 3
   },
   "file_extension": ".py",
   "mimetype": "text/x-python",
   "name": "python",
   "nbconvert_exporter": "python",
   "pygments_lexer": "ipython3",
   "version": "3.8.8"
  },
  "toc-autonumbering": false
 },
 "nbformat": 4,
 "nbformat_minor": 5
}
