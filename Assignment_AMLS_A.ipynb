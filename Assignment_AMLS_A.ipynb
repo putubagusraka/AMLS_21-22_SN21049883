{
 "cells": [
  {
   "cell_type": "code",
   "execution_count": 1,
   "id": "2016df5a-6687-40a1-8991-b6aaa0966509",
   "metadata": {},
   "outputs": [],
   "source": [
    "import os\n",
    "import pandas as pd\n",
    "import numpy as np\n",
    "import time\n",
    "import cv2\n",
    "import tensorflow as tf\n",
    "import keras.backend as K\n",
    "import keras\n",
    "\n",
    "from sklearn.preprocessing import OneHotEncoder\n",
    "from sklearn.model_selection import train_test_split\n",
    "from sklearn.linear_model import LogisticRegression\n",
    "from sklearn.metrics import confusion_matrix, classification_report,accuracy_score\n",
    "from sklearn.preprocessing import MinMaxScaler\n",
    "from sklearn.preprocessing import StandardScaler"
   ]
  },
  {
   "cell_type": "code",
   "execution_count": 2,
   "id": "3abad6a6-11fe-4a52-b620-d24ed3697b3c",
   "metadata": {},
   "outputs": [
    {
     "name": "stdout",
     "output_type": "stream",
     "text": [
      "[name: \"/device:CPU:0\"\n",
      "device_type: \"CPU\"\n",
      "memory_limit: 268435456\n",
      "locality {\n",
      "}\n",
      "incarnation: 7111709695699251610\n",
      ", name: \"/device:GPU:0\"\n",
      "device_type: \"GPU\"\n",
      "memory_limit: 3381723136\n",
      "locality {\n",
      "  bus_id: 1\n",
      "  links {\n",
      "  }\n",
      "}\n",
      "incarnation: 12456200975974913950\n",
      "physical_device_desc: \"device: 0, name: NVIDIA GeForce RTX 3060 Laptop GPU, pci bus id: 0000:01:00.0, compute capability: 8.6\"\n",
      "]\n"
     ]
    }
   ],
   "source": [
    "from tensorflow.python.client import device_lib \n",
    "print(device_lib.list_local_devices())"
   ]
  },
  {
   "cell_type": "markdown",
   "id": "82192ba2-ea53-4fa2-8206-564b2fa529e3",
   "metadata": {},
   "source": [
    "# Data Preprocessing"
   ]
  },
  {
   "cell_type": "code",
   "execution_count": 3,
   "id": "25150276-036d-4e43-b5cf-6491b580ed07",
   "metadata": {},
   "outputs": [],
   "source": [
    "def generate_training_data(output_type):\n",
    "    data_path=\"dataset/\"\n",
    "    data=pd.read_csv(data_path+\"label.csv\")\n",
    "    file_names=list(data['file_name'])\n",
    "    labels=list(data['label'])\n",
    "    \n",
    "    if output_type == 'ohe':\n",
    "        data['tumor_label'] = data['label'].apply(lambda x: \"no_tumor\" if x == \"no_tumor\" else \"tumor\")\n",
    "        data = data.drop(columns = ['label'])\n",
    "        labels=data['tumor_label'].values.reshape(-1,1)\n",
    "        ohe = OneHotEncoder(handle_unknown = \"ignore\", sparse=False)\n",
    "        labels = ohe.fit_transform(labels)\n",
    "    \n",
    "    if output_type == 'binary':\n",
    "        data['tumor_label'] = data['label'].apply(lambda x: 0 if x == \"no_tumor\" else 1)\n",
    "        data = data.drop(columns = ['label'])\n",
    "        labels=data['tumor_label'].values.reshape(-1,1)\n",
    "        \n",
    "    dataset_tumor=[]\n",
    "\n",
    "    for file_index in range(len(file_names)):\n",
    "        file=cv2.imread(data_path+\"/image/\"+file_names[file_index])\n",
    "        file_resize=cv2.resize(file,(128,128))/255.\n",
    "        dataset_tumor.append(file_resize)\n",
    "        \n",
    "    tumor_data = np.array(dataset_tumor)\n",
    "    \n",
    "    return tumor_data, labels"
   ]
  },
  {
   "cell_type": "code",
   "execution_count": 4,
   "id": "698b0f68-20d0-445e-9998-9ce6a0ddfcd1",
   "metadata": {},
   "outputs": [],
   "source": [
    "tumor_data, labels = generate_training_data('binary')\n",
    "x_train,x_test,y_train,y_test=train_test_split(tumor_data,labels,test_size=0.2,random_state=25)"
   ]
  },
  {
   "cell_type": "markdown",
   "id": "50ebba55-b977-438a-beed-0c46d827060e",
   "metadata": {},
   "source": [
    "# Training and Validation"
   ]
  },
  {
   "cell_type": "code",
   "execution_count": 5,
   "id": "6c4dc92c-4276-4d9b-82d1-d6fb7e6d4f63",
   "metadata": {},
   "outputs": [],
   "source": [
    "x_train = x_train.reshape(2400,128*128*3)\n",
    "x_test = x_test.reshape(600,128*128*3)\n",
    "y_train = y_train.ravel()"
   ]
  },
  {
   "cell_type": "code",
   "execution_count": 6,
   "id": "ef71165c-6111-4d73-b774-267a0195cc6a",
   "metadata": {},
   "outputs": [],
   "source": [
    "#scaler = MinMaxScaler()\n",
    "scaler = StandardScaler()\n",
    "x_train = scaler.fit_transform(x_train)\n",
    "x_test = scaler.transform(x_test)"
   ]
  },
  {
   "cell_type": "code",
   "execution_count": 11,
   "id": "5fc86658-d40f-4e06-b578-dff31ea6a21a",
   "metadata": {},
   "outputs": [
    {
     "name": "stdout",
     "output_type": "stream",
     "text": [
      "Accuracy on test set: 0.8566666666666667\n",
      "              precision    recall  f1-score   support\n",
      "\n",
      "           0       0.47      0.88      0.61        77\n",
      "           1       0.98      0.85      0.91       523\n",
      "\n",
      "    accuracy                           0.86       600\n",
      "   macro avg       0.72      0.87      0.76       600\n",
      "weighted avg       0.91      0.86      0.87       600\n",
      "\n"
     ]
    },
    {
     "name": "stderr",
     "output_type": "stream",
     "text": [
      "C:\\Software\\Anaconda\\lib\\site-packages\\sklearn\\linear_model\\_sag.py:352: ConvergenceWarning: The max_iter was reached which means the coef_ did not converge\n",
      "  warnings.warn(\n"
     ]
    }
   ],
   "source": [
    "def logRegrPredict(x_train, y_train,xtest ):\n",
    "\n",
    "    logreg = LogisticRegression(solver='saga')\n",
    "    logreg.fit(x_train, y_train)\n",
    "    y_pred= logreg.predict(xtest)\n",
    "\n",
    "    return y_pred\n",
    "\n",
    "y_pred = logRegrPredict(x_train, y_train,x_test)\n",
    "print('Accuracy on test set: '+str(accuracy_score(y_test,y_pred)))\n",
    "print(classification_report(y_test,y_pred))#text report showing the main classification metrics"
   ]
  },
  {
   "cell_type": "code",
   "execution_count": null,
   "id": "7615b3af-4f1e-405b-be1e-847b611047d3",
   "metadata": {},
   "outputs": [],
   "source": []
  },
  {
   "cell_type": "code",
   "execution_count": null,
   "id": "07131bc0-0cc9-4461-8742-52e26634db35",
   "metadata": {},
   "outputs": [],
   "source": []
  }
 ],
 "metadata": {
  "kernelspec": {
   "display_name": "Python 3 (ipykernel)",
   "language": "python",
   "name": "python3"
  },
  "language_info": {
   "codemirror_mode": {
    "name": "ipython",
    "version": 3
   },
   "file_extension": ".py",
   "mimetype": "text/x-python",
   "name": "python",
   "nbconvert_exporter": "python",
   "pygments_lexer": "ipython3",
   "version": "3.8.8"
  }
 },
 "nbformat": 4,
 "nbformat_minor": 5
}
