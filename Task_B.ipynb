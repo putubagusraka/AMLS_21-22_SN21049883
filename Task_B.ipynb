{
 "cells": [
  {
   "cell_type": "code",
   "execution_count": 1,
   "id": "6947b6bd",
   "metadata": {},
   "outputs": [],
   "source": [
    "import os\n",
    "import pandas as pd\n",
    "import numpy as np\n",
    "import time\n",
    "import cv2\n",
    "import tensorflow as tf\n",
    "import keras.backend as K\n",
    "import keras\n",
    "from tensorflow.keras import layers\n",
    "\n",
    "from tensorflow.keras.models import Sequential\n",
    "from tensorflow.keras.layers import Conv2D\n",
    "from tensorflow.keras.layers import MaxPooling2D\n",
    "from tensorflow.keras.layers import Flatten\n",
    "from tensorflow.keras.layers import Dense\n",
    "from tensorflow.keras.layers import Dropout\n",
    "from tensorflow.keras.layers import BatchNormalization\n",
    "from tensorflow.keras.optimizers import Adam, SGD\n",
    "##from tensorflow.keras.utils import multi_gpu_model\n",
    "\n",
    "from keras.callbacks import LearningRateScheduler\n",
    "from keras.callbacks import EarlyStopping\n",
    "\n",
    "import sklearn\n",
    "from sklearn import preprocessing\n",
    "from sklearn.preprocessing import OneHotEncoder\n",
    "from sklearn.model_selection import KFold\n",
    "from sklearn.model_selection import train_test_split\n",
    "from sklearn.metrics import accuracy_score,precision_score,f1_score,recall_score\n",
    "from sklearn.metrics import confusion_matrix, classification_report,accuracy_score\n",
    "\n",
    "import matplotlib.pyplot as plt\n",
    "from matplotlib import pyplot\n",
    "import seaborn as sns\n",
    "\n",
    "from tensorflow.keras import datasets, layers, models\n",
    "from keras.layers import Activation, Dense\n",
    "import matplotlib.pyplot as plt\n",
    "from sklearn.metrics import ConfusionMatrixDisplay\n",
    "\n",
    "import pickle\n",
    "import joblib\n",
    "from joblib import dump, load\n",
    "\n",
    "from collections import Counter\n",
    "from imblearn.over_sampling import SMOTE \n"
   ]
  },
  {
   "cell_type": "markdown",
   "id": "e4b59fa6",
   "metadata": {},
   "source": [
    "## Data Preprocessing"
   ]
  },
  {
   "cell_type": "code",
   "execution_count": 2,
   "id": "830f7b9e-2777-4102-ae8f-edbb10dedde9",
   "metadata": {
    "tags": []
   },
   "outputs": [],
   "source": [
    "def label_encoding_init(file_names):\n",
    "    le = preprocessing.LabelEncoder()\n",
    "    le.fit(file_names)\n",
    "    dump(le, 'Task B Assets/Task_B_label_encoder.joblib') \n",
    "\n",
    "def SMOTE_preprocessing(file_names, labels):\n",
    "    le = joblib.load('Task B Assets/Task_B_label_encoder.joblib')\n",
    "    le.fit(file_names)\n",
    "    le_file_names = le.transform(file_names).reshape(-1,1)\n",
    "    print(le_file_names.shape)\n",
    "    \n",
    "    sm = SMOTE()\n",
    "    SMOTE_file_names, SMOTE_labels = sm.fit_resample(le_file_names, labels)\n",
    "    print(\"Distribution of image categories post-SMOTE:\")\n",
    "    print(Counter(list(SMOTE_labels)))\n",
    "    \n",
    "    SMOTE_file_names = le.inverse_transform(SMOTE_file_names)\n",
    "    print('a')\n",
    "    return SMOTE_file_names, SMOTE_labels\n",
    "\n",
    "def image_processing(file_names):\n",
    "    dataset_tumor=[]\n",
    "    for file_name in file_names:\n",
    "        file=cv2.imread(data_path+\"/image/\"+file_name)\n",
    "        file_resize=cv2.resize(file,(128,128))/255.\n",
    "        dataset_tumor.append(file_resize)\n",
    "    tumor_data = np.array(dataset_tumor)\n",
    "    return tumor_data\n",
    "\n",
    "def preprocessing_data(data_path, file, status):\n",
    "\n",
    "    data=pd.read_csv(data_path+file)\n",
    "    file_names=list(data['file_name'])\n",
    "    labels=data['label'].values.reshape(-1,1)\n",
    "    \n",
    "    if status == 'training':\n",
    "        ohe = OneHotEncoder(handle_unknown = \"ignore\", sparse=False)\n",
    "        ohe = ohe.fit(labels)\n",
    "        \n",
    "        print(\"Distribution of image categories:\")\n",
    "        print(Counter(list(data['label'])))\n",
    "    \n",
    "        label_encoding_init(file_names)\n",
    "        file_names, labels = SMOTE_preprocessing(file_names, labels)\n",
    "        x_train,x_test,y_train,y_test = train_test_split(file_names,labels,test_size=0.2)\n",
    "        print('b')\n",
    "        x_train = image_processing(x_train)\n",
    "        x_test = image_processing(x_test)\n",
    "        print('c')\n",
    "        y_train = ohe.transform(np.array(y_train).reshape(-1,1))\n",
    "        y_test = ohe.transform(np.array(y_test).reshape(-1,1))\n",
    "        dump(ohe, 'Task B Assets/Task_B_one-hot_encoder.joblib') \n",
    "\n",
    "        \n",
    "        return x_train, x_test, y_train, y_test\n",
    "\n",
    "    \n",
    "    elif status == 'testing':\n",
    "        ohe = joblib.load('Task B Assets/Task_B_one-hot_encoder.joblib')\n",
    "        y_test = ohe.transform(labels)\n",
    "        x_test = image_processing(file_names) \n",
    "                              \n",
    "        return x_test, y_test\n",
    "    \n",
    "\n",
    "def define_CNN():\n",
    "    model = Sequential()\n",
    "    \n",
    "    #Conv2D is a 2D convolutional layer that applies 2d convolution to input signal composed of several input planes.\n",
    "    #Kernel: is the filter that moves over the input layer to obtain a matrix of dot products based on the kernel size.\n",
    "    #Strides metric: determines the shift of the kernel filter as it convolves around the input volume. \n",
    "    #Higher stride means larger shifts which lead to a smaller output volume. \n",
    "    #It is important to for the stride to be small enough that we capture significant features but not too small as this could lead to overfitting.\n",
    "    #Padding: refers to the amount of pixels added to an image when it is being processed by the kernel. \n",
    "    #This helps provide more space for the kernel to cover the image.\n",
    "    #Activation: refers to activation function used to product output layer. Here I use ReLU as it is simple and doesn't suffer from vanishing gradients\n",
    "    \n",
    "    model.add(Conv2D(32, kernel_size=(31,31), strides=(1,1), padding='same', activation='relu', input_shape=(128,128,3)))\n",
    "    #MaxPooling reduces the size of the output matrix by obtaining the largest value from the a given pooling matrix \n",
    "    model.add(MaxPooling2D(pool_size=(2,2)))\n",
    "    #Batch Normalization helps reduce the internal covariate shift of the network. \n",
    "    model.add(BatchNormalization())\n",
    "    model.add(Dropout(0.2))\n",
    "              \n",
    "    model.add(Conv2D(64, kernel_size=(27,27), strides=(1,1), padding='same', activation='relu'))\n",
    "    model.add(MaxPooling2D(pool_size=(2,2)))\n",
    "    model.add(BatchNormalization())\n",
    "    model.add(Dropout(0.2))\n",
    "              \n",
    "    model.add(Conv2D(128, kernel_size=(21,21), strides=(2,2), padding='same', activation='relu'))\n",
    "    model.add(MaxPooling2D(pool_size=(2,2)))\n",
    "    model.add(BatchNormalization())\n",
    "    model.add(Dropout(0.2))\n",
    "              \n",
    "    #Flatten layer converts data into a 1-dimensional array for inputting it to the next layer. \n",
    "    #We flatten the output of the convolutional layers to create a single long feature vector \n",
    "    #So basically after our layers of pooling, we want to extract the data so we can feed it into our neural network\n",
    "    model.add(Flatten())\n",
    "    \n",
    "    \n",
    "    model.add(Dense(1024, activation='relu'))\n",
    "    model.add(Dropout(0.2))\n",
    "    \n",
    "    model.add(Dense(256, activation='relu'))\n",
    "    model.add(Dropout(0.2))\n",
    "    \n",
    "    model.add(Dense(4, activation='softmax'))\n",
    "    model.compile(loss=\"categorical_crossentropy\",optimizer=Adam(learning_rate=0.001),  metrics=['acc'])\n",
    "    \n",
    "    return model\n",
    "    \n",
    "    \n",
    "def train_CNN(x_train,y_train):\n",
    "    model = define_CNN()\n",
    "    history1 = model.fit(x_train,y_train,epochs=50,batch_size=32,shuffle=True,validation_split=0.1)\n",
    "    \n",
    "\n",
    "    plt.plot(history1.history['acc'])\n",
    "    plt.plot(history1.history['val_acc'])\n",
    "    plt.title('model accuracy')\n",
    "    plt.ylabel('accuracy')\n",
    "    plt.xlabel('epoch')\n",
    "    plt.legend(['train', 'test'], loc='upper left')\n",
    "    plt.show()\n",
    "    # summarize history for loss\n",
    "    plt.plot(history1.history['loss'])\n",
    "    plt.plot(history1.history['val_loss'])\n",
    "    plt.title('model loss')\n",
    "    plt.ylabel('loss')\n",
    "    plt.xlabel('epoch')\n",
    "    plt.legend(['train', 'test'], loc='upper left')\n",
    "    plt.show()\n",
    "    model.save('Task B Assets/Task_B_CNN_Model')\n",
    "    \n",
    "    return model\n",
    "\n",
    "def test_model(x_test, y_test):\n",
    "    print(y_test.shape)\n",
    "    loaded_model = keras.models.load_model('Task B Assets/Task_B_CNN_Model')\n",
    "    result=loaded_model.predict(x_test)\n",
    "    result_class = tf.one_hot(np.argmax(result, axis=1), depth = 4)\n",
    "    #y_test_class = np.argmax(y_test, axis=1)\n",
    "\n",
    "    \n",
    "    ohe = joblib.load('Task B Assets/Task_B_one-hot_encoder.joblib')\n",
    "    result_class = ohe.inverse_transform(result_class)\n",
    "    y_test_class = ohe.inverse_transform(y_test)\n",
    "    \n",
    "    acc = sklearn.metrics.accuracy_score(result_class, y_test_class)\n",
    "    print(\"Accuracy for test data:\", acc)\n",
    "    \n",
    "    plt.figure(figsize = (7,7))\n",
    "    ConfusionMatrixDisplay.from_predictions(y_test_class, result_class, cmap = 'Blues')\n",
    "    plt.xticks(rotation=45)\n",
    "    plt.show()\n",
    "    print(loaded_model.summary())\n",
    "    print(classification_report(y_test_class, result_class))"
   ]
  },
  {
   "cell_type": "markdown",
   "id": "82c34bc3-5fde-4c15-9790-9a813d6a13a0",
   "metadata": {},
   "source": [
    "## Data Preprocessing (Training)"
   ]
  },
  {
   "cell_type": "code",
   "execution_count": 3,
   "id": "d38e45f7-bc00-45e5-a8db-5dac1b5e5a56",
   "metadata": {},
   "outputs": [
    {
     "name": "stdout",
     "output_type": "stream",
     "text": [
      "Distribution of image categories:\n",
      "Counter({'glioma_tumor': 860, 'meningioma_tumor': 855, 'pituitary_tumor': 831, 'no_tumor': 454})\n",
      "(3000, 1)\n",
      "Distribution of image categories post-SMOTE:\n",
      "Counter({'meningioma_tumor': 860, 'no_tumor': 860, 'glioma_tumor': 860, 'pituitary_tumor': 860})\n",
      "a\n",
      "b\n"
     ]
    },
    {
     "name": "stderr",
     "output_type": "stream",
     "text": [
      "C:\\Software\\Anaconda\\lib\\site-packages\\sklearn\\preprocessing\\_label.py:154: DataConversionWarning: A column-vector y was passed when a 1d array was expected. Please change the shape of y to (n_samples, ), for example using ravel().\n",
      "  y = column_or_1d(y, warn=True)\n"
     ]
    },
    {
     "name": "stdout",
     "output_type": "stream",
     "text": [
      "c\n"
     ]
    }
   ],
   "source": [
    "data_path=\"dataset/\"\n",
    "file = \"label.csv\"\n",
    "\n",
    "x_train, x_test, y_train, y_test = preprocessing_data(data_path, file, 'training')"
   ]
  },
  {
   "cell_type": "code",
   "execution_count": 4,
   "id": "07e464f0-fcc0-4928-a63a-728c1d8a2a3c",
   "metadata": {},
   "outputs": [
    {
     "name": "stdout",
     "output_type": "stream",
     "text": [
      "(2752, 128, 128, 3)\n",
      "(2752, 4)\n",
      "(688, 128, 128, 3)\n",
      "(688, 4)\n"
     ]
    }
   ],
   "source": [
    "print(x_train.shape)\n",
    "print(y_train.shape)\n",
    "print(x_test.shape)\n",
    "print(y_test.shape)"
   ]
  },
  {
   "cell_type": "markdown",
   "id": "a130be1d-1a6d-4949-9c9f-762da351875f",
   "metadata": {},
   "source": [
    "## Training and Validation"
   ]
  },
  {
   "cell_type": "code",
   "execution_count": 5,
   "id": "080b3c2b-5d86-4668-99bd-0dc27db78aa1",
   "metadata": {},
   "outputs": [
    {
     "name": "stdout",
     "output_type": "stream",
     "text": [
      "Epoch 1/50\n",
      "78/78 [==============================] - 16s 114ms/step - loss: 1.9376 - acc: 0.4043 - val_loss: 5.8323 - val_acc: 0.2101\n",
      "Epoch 2/50\n",
      "78/78 [==============================] - 6s 72ms/step - loss: 1.1898 - acc: 0.4786 - val_loss: 2.0929 - val_acc: 0.2319\n",
      "Epoch 3/50\n",
      "78/78 [==============================] - 6s 76ms/step - loss: 1.1695 - acc: 0.4919 - val_loss: 1.3572 - val_acc: 0.3949\n",
      "Epoch 4/50\n",
      "78/78 [==============================] - 6s 79ms/step - loss: 1.1164 - acc: 0.5226 - val_loss: 1.1314 - val_acc: 0.5000\n",
      "Epoch 5/50\n",
      "78/78 [==============================] - 6s 78ms/step - loss: 1.0844 - acc: 0.5351 - val_loss: 1.0846 - val_acc: 0.5580\n",
      "Epoch 6/50\n",
      "78/78 [==============================] - 6s 77ms/step - loss: 1.0495 - acc: 0.5553 - val_loss: 1.0629 - val_acc: 0.6051\n",
      "Epoch 7/50\n",
      "78/78 [==============================] - 6s 75ms/step - loss: 0.9946 - acc: 0.5969 - val_loss: 0.9647 - val_acc: 0.6304\n",
      "Epoch 8/50\n",
      "78/78 [==============================] - 6s 74ms/step - loss: 1.0108 - acc: 0.5957 - val_loss: 0.9448 - val_acc: 0.6377\n",
      "Epoch 9/50\n",
      "78/78 [==============================] - 6s 74ms/step - loss: 0.9736 - acc: 0.6038 - val_loss: 1.1272 - val_acc: 0.5833\n",
      "Epoch 10/50\n",
      "78/78 [==============================] - 6s 73ms/step - loss: 0.9651 - acc: 0.6268 - val_loss: 1.0124 - val_acc: 0.6232\n",
      "Epoch 11/50\n",
      "78/78 [==============================] - 6s 73ms/step - loss: 0.9328 - acc: 0.6296 - val_loss: 0.8943 - val_acc: 0.6739\n",
      "Epoch 12/50\n",
      "78/78 [==============================] - 6s 73ms/step - loss: 0.8856 - acc: 0.6611 - val_loss: 0.8683 - val_acc: 0.6957\n",
      "Epoch 13/50\n",
      "78/78 [==============================] - 6s 73ms/step - loss: 0.8480 - acc: 0.6870 - val_loss: 0.9877 - val_acc: 0.6848\n",
      "Epoch 14/50\n",
      "78/78 [==============================] - 6s 73ms/step - loss: 0.8195 - acc: 0.6947 - val_loss: 0.9118 - val_acc: 0.6739\n",
      "Epoch 15/50\n",
      "78/78 [==============================] - 6s 73ms/step - loss: 0.7970 - acc: 0.7076 - val_loss: 0.7643 - val_acc: 0.7283\n",
      "Epoch 16/50\n",
      "78/78 [==============================] - 6s 73ms/step - loss: 0.7599 - acc: 0.7132 - val_loss: 0.9291 - val_acc: 0.6232\n",
      "Epoch 17/50\n",
      "78/78 [==============================] - 6s 73ms/step - loss: 0.7154 - acc: 0.7480 - val_loss: 0.7107 - val_acc: 0.7464\n",
      "Epoch 18/50\n",
      "78/78 [==============================] - 6s 74ms/step - loss: 0.7176 - acc: 0.7460 - val_loss: 0.7927 - val_acc: 0.7174\n",
      "Epoch 19/50\n",
      "78/78 [==============================] - 6s 75ms/step - loss: 0.6463 - acc: 0.7758 - val_loss: 0.6417 - val_acc: 0.7790\n",
      "Epoch 20/50\n",
      "78/78 [==============================] - 6s 73ms/step - loss: 0.6075 - acc: 0.7908 - val_loss: 0.7003 - val_acc: 0.7391\n",
      "Epoch 21/50\n",
      "78/78 [==============================] - 6s 75ms/step - loss: 0.6118 - acc: 0.7851 - val_loss: 0.7223 - val_acc: 0.7428\n",
      "Epoch 22/50\n",
      "78/78 [==============================] - 6s 78ms/step - loss: 0.5717 - acc: 0.8025 - val_loss: 0.7208 - val_acc: 0.7609\n",
      "Epoch 23/50\n",
      "78/78 [==============================] - 6s 73ms/step - loss: 0.5466 - acc: 0.8223 - val_loss: 0.6151 - val_acc: 0.7899\n",
      "Epoch 24/50\n",
      "78/78 [==============================] - 6s 74ms/step - loss: 0.4923 - acc: 0.8288 - val_loss: 0.6850 - val_acc: 0.8007\n",
      "Epoch 25/50\n",
      "78/78 [==============================] - 6s 75ms/step - loss: 0.4936 - acc: 0.8344 - val_loss: 0.5845 - val_acc: 0.7971\n",
      "Epoch 26/50\n",
      "78/78 [==============================] - 6s 74ms/step - loss: 0.4560 - acc: 0.8429 - val_loss: 0.6161 - val_acc: 0.8188\n",
      "Epoch 27/50\n",
      "78/78 [==============================] - 6s 73ms/step - loss: 0.4325 - acc: 0.8570 - val_loss: 0.6153 - val_acc: 0.8225\n",
      "Epoch 28/50\n",
      "78/78 [==============================] - 6s 78ms/step - loss: 0.4566 - acc: 0.8449 - val_loss: 0.8148 - val_acc: 0.6884\n",
      "Epoch 29/50\n",
      "78/78 [==============================] - 6s 76ms/step - loss: 0.4315 - acc: 0.8558 - val_loss: 0.5332 - val_acc: 0.8370\n",
      "Epoch 30/50\n",
      "78/78 [==============================] - 6s 76ms/step - loss: 0.3973 - acc: 0.8631 - val_loss: 0.5881 - val_acc: 0.8116\n",
      "Epoch 31/50\n",
      "78/78 [==============================] - 6s 74ms/step - loss: 0.3895 - acc: 0.8700 - val_loss: 0.6722 - val_acc: 0.8080\n",
      "Epoch 32/50\n",
      "78/78 [==============================] - 6s 73ms/step - loss: 0.3538 - acc: 0.8813 - val_loss: 0.6129 - val_acc: 0.8406\n",
      "Epoch 33/50\n",
      "78/78 [==============================] - 6s 74ms/step - loss: 0.3286 - acc: 0.8873 - val_loss: 0.5782 - val_acc: 0.8225\n",
      "Epoch 34/50\n",
      "78/78 [==============================] - 6s 76ms/step - loss: 0.3266 - acc: 0.8780 - val_loss: 0.7305 - val_acc: 0.8080\n",
      "Epoch 35/50\n",
      "78/78 [==============================] - 6s 75ms/step - loss: 0.3140 - acc: 0.8873 - val_loss: 0.7369 - val_acc: 0.8261\n",
      "Epoch 36/50\n",
      "78/78 [==============================] - 6s 75ms/step - loss: 0.3246 - acc: 0.8869 - val_loss: 0.6268 - val_acc: 0.8370\n",
      "Epoch 37/50\n",
      "78/78 [==============================] - 6s 75ms/step - loss: 0.2868 - acc: 0.8918 - val_loss: 0.6951 - val_acc: 0.7971\n",
      "Epoch 38/50\n",
      "78/78 [==============================] - 6s 77ms/step - loss: 0.3002 - acc: 0.8853 - val_loss: 0.6971 - val_acc: 0.7645\n",
      "Epoch 39/50\n",
      "78/78 [==============================] - 6s 73ms/step - loss: 0.3082 - acc: 0.8833 - val_loss: 0.7564 - val_acc: 0.7826\n",
      "Epoch 40/50\n",
      "78/78 [==============================] - 6s 75ms/step - loss: 0.2876 - acc: 0.8905 - val_loss: 0.7647 - val_acc: 0.8225\n",
      "Epoch 41/50\n",
      "78/78 [==============================] - 6s 74ms/step - loss: 0.2585 - acc: 0.8982 - val_loss: 0.7107 - val_acc: 0.7971\n",
      "Epoch 42/50\n",
      "78/78 [==============================] - 6s 74ms/step - loss: 0.2536 - acc: 0.8970 - val_loss: 0.6781 - val_acc: 0.8116\n",
      "Epoch 43/50\n",
      "78/78 [==============================] - 6s 73ms/step - loss: 0.2377 - acc: 0.9027 - val_loss: 0.6995 - val_acc: 0.8116\n",
      "Epoch 44/50\n",
      "78/78 [==============================] - 6s 74ms/step - loss: 0.2433 - acc: 0.9071 - val_loss: 0.9127 - val_acc: 0.7391\n",
      "Epoch 45/50\n",
      "78/78 [==============================] - 6s 73ms/step - loss: 0.2350 - acc: 0.9011 - val_loss: 0.8749 - val_acc: 0.8007\n",
      "Epoch 46/50\n",
      "78/78 [==============================] - 6s 73ms/step - loss: 0.2724 - acc: 0.8942 - val_loss: 0.6889 - val_acc: 0.8297\n",
      "Epoch 47/50\n",
      "78/78 [==============================] - 6s 74ms/step - loss: 0.2475 - acc: 0.8966 - val_loss: 0.9307 - val_acc: 0.8080\n",
      "Epoch 48/50\n",
      "78/78 [==============================] - 6s 74ms/step - loss: 0.2454 - acc: 0.8962 - val_loss: 0.9919 - val_acc: 0.8261\n",
      "Epoch 49/50\n",
      "78/78 [==============================] - 6s 74ms/step - loss: 0.2185 - acc: 0.9002 - val_loss: 0.7956 - val_acc: 0.8261\n",
      "Epoch 50/50\n",
      "78/78 [==============================] - 6s 73ms/step - loss: 0.1965 - acc: 0.9099 - val_loss: 0.9226 - val_acc: 0.7899\n"
     ]
    },
    {
     "data": {
      "image/png": "[encoded data removed]",
      "text/plain": [
       "<Figure size 432x288 with 1 Axes>"
      ]
     },
     "metadata": {
      "needs_background": "light"
     },
     "output_type": "display_data"
    },
    {
     "data": {
      "image/png": "[encoded data removed]",
      "text/plain": [
       "<Figure size 432x288 with 1 Axes>"
      ]
     },
     "metadata": {
      "needs_background": "light"
     },
     "output_type": "display_data"
    },
    {
     "name": "stdout",
     "output_type": "stream",
     "text": [
      "INFO:tensorflow:Assets written to: Task B Assets/Task_B_CNN_Model\\assets\n"
     ]
    }
   ],
   "source": [
    "model = train_CNN(x_train, y_train)"
   ]
  },
  {
   "cell_type": "markdown",
   "id": "b4b2724d-9d90-42b2-b35c-08771872b662",
   "metadata": {},
   "source": [
    "## Testing (using splitted sample data)"
   ]
  },
  {
   "cell_type": "code",
   "execution_count": 6,
   "id": "afaf2c3a-1957-4685-9841-a139d0e3731e",
   "metadata": {},
   "outputs": [
    {
     "name": "stdout",
     "output_type": "stream",
     "text": [
      "(688, 4)\n",
      "Accuracy for test data: 0.8023255813953488\n"
     ]
    },
    {
     "data": {
      "text/plain": [
       "<Figure size 504x504 with 0 Axes>"
      ]
     },
     "metadata": {},
     "output_type": "display_data"
    },
    {
     "data": {
      "image/png": "[encoded data removed]",
      "text/plain": [
       "<Figure size 432x288 with 2 Axes>"
      ]
     },
     "metadata": {
      "needs_background": "light"
     },
     "output_type": "display_data"
    },
    {
     "name": "stdout",
     "output_type": "stream",
     "text": [
      "Model: \"sequential\"\n",
      "_________________________________________________________________\n",
      "Layer (type)                 Output Shape              Param #   \n",
      "=================================================================\n",
      "conv2d (Conv2D)              (None, 128, 128, 32)      92288     \n",
      "_________________________________________________________________\n",
      "max_pooling2d (MaxPooling2D) (None, 64, 64, 32)        0         \n",
      "_________________________________________________________________\n",
      "batch_normalization (BatchNo (None, 64, 64, 32)        128       \n",
      "_________________________________________________________________\n",
      "dropout (Dropout)            (None, 64, 64, 32)        0         \n",
      "_________________________________________________________________\n",
      "conv2d_1 (Conv2D)            (None, 64, 64, 64)        1493056   \n",
      "_________________________________________________________________\n",
      "max_pooling2d_1 (MaxPooling2 (None, 32, 32, 64)        0         \n",
      "_________________________________________________________________\n",
      "batch_normalization_1 (Batch (None, 32, 32, 64)        256       \n",
      "_________________________________________________________________\n",
      "dropout_1 (Dropout)          (None, 32, 32, 64)        0         \n",
      "_________________________________________________________________\n",
      "conv2d_2 (Conv2D)            (None, 16, 16, 128)       3612800   \n",
      "_________________________________________________________________\n",
      "max_pooling2d_2 (MaxPooling2 (None, 8, 8, 128)         0         \n",
      "_________________________________________________________________\n",
      "batch_normalization_2 (Batch (None, 8, 8, 128)         512       \n",
      "_________________________________________________________________\n",
      "dropout_2 (Dropout)          (None, 8, 8, 128)         0         \n",
      "_________________________________________________________________\n",
      "flatten (Flatten)            (None, 8192)              0         \n",
      "_________________________________________________________________\n",
      "dense (Dense)                (None, 1024)              8389632   \n",
      "_________________________________________________________________\n",
      "dropout_3 (Dropout)          (None, 1024)              0         \n",
      "_________________________________________________________________\n",
      "dense_1 (Dense)              (None, 256)               262400    \n",
      "_________________________________________________________________\n",
      "dropout_4 (Dropout)          (None, 256)               0         \n",
      "_________________________________________________________________\n",
      "dense_2 (Dense)              (None, 4)                 1028      \n",
      "=================================================================\n",
      "Total params: 13,852,100\n",
      "Trainable params: 13,851,652\n",
      "Non-trainable params: 448\n",
      "_________________________________________________________________\n",
      "None\n",
      "                  precision    recall  f1-score   support\n",
      "\n",
      "    glioma_tumor       0.88      0.79      0.83       170\n",
      "meningioma_tumor       0.81      0.84      0.83       171\n",
      "        no_tumor       0.68      0.74      0.71       182\n",
      " pituitary_tumor       0.87      0.85      0.86       165\n",
      "\n",
      "        accuracy                           0.80       688\n",
      "       macro avg       0.81      0.80      0.81       688\n",
      "    weighted avg       0.81      0.80      0.80       688\n",
      "\n"
     ]
    }
   ],
   "source": [
    "test_model(x_test, y_test)"
   ]
  },
  {
   "cell_type": "markdown",
   "id": "266721f6-43fb-40b4-bb98-a9b4105f125c",
   "metadata": {},
   "source": [
    "# TO DO!!!"
   ]
  },
  {
   "cell_type": "code",
   "execution_count": 7,
   "id": "7c8c460a-16eb-4c70-bdc2-49d2a1a37405",
   "metadata": {},
   "outputs": [],
   "source": [
    "#SMOTE sampling\n",
    "#add cross validation\n",
    "#tidy up functions\n",
    "#make version without SMOTE(task A makes sense, task B not so much)"
   ]
  }
 ],
 "metadata": {
  "kernelspec": {
   "display_name": "Python 3 (ipykernel)",
   "language": "python",
   "name": "python3"
  },
  "language_info": {
   "codemirror_mode": {
    "name": "ipython",
    "version": 3
   },
   "file_extension": ".py",
   "mimetype": "text/x-python",
   "name": "python",
   "nbconvert_exporter": "python",
   "pygments_lexer": "ipython3",
   "version": "3.8.8"
  }
 },
 "nbformat": 4,
 "nbformat_minor": 5
}
